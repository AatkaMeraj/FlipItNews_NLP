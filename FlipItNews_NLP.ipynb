{
  "nbformat": 4,
  "nbformat_minor": 0,
  "metadata": {
    "colab": {
      "provenance": [],
      "authorship_tag": "ABX9TyPzPq1XGHlLtRk0ZVDjp3at",
      "include_colab_link": true
    },
    "kernelspec": {
      "name": "python3",
      "display_name": "Python 3"
    },
    "language_info": {
      "name": "python"
    }
  },
  "cells": [
    {
      "cell_type": "markdown",
      "metadata": {
        "id": "view-in-github",
        "colab_type": "text"
      },
      "source": [
        "<a href=\"https://colab.research.google.com/github/AatkaMeraj/FlipItNews_NLP/blob/main/FlipItNews_NLP.ipynb\" target=\"_parent\"><img src=\"https://colab.research.google.com/assets/colab-badge.svg\" alt=\"Open In Colab\"/></a>"
      ]
    },
    {
      "cell_type": "markdown",
      "source": [
        "# About FlipItNews"
      ],
      "metadata": {
        "id": "NdqqhyoRttx8"
      }
    },
    {
      "cell_type": "markdown",
      "source": [
        "**The Gurugram-based company ‘FlipItNews’ aims to revolutionize the way Indians perceive finance, business, and capital market investment, by giving it a boost through artificial intelligence (AI) and machine learning (ML). They’re on a mission to reinvent financial literacy for Indians, where financial awareness is driven by smart information discovery and engagement with peers. Through their smart content discovery and contextual engagement, the company is simplifying business, finance, and investment for millennials and first-time investors.**\n",
        "\n"
      ],
      "metadata": {
        "id": "zyHYXuLotp7G"
      }
    },
    {
      "cell_type": "markdown",
      "source": [
        "# Problem Statement\n",
        "\n",
        "**The goal of this project is to use a bunch of news articles extracted from the companies’ internal database and categorize them into several categories like politics, technology, sports, business and entertainment based on their content. Use natural language processing and create & compare at least three different models.**"
      ],
      "metadata": {
        "id": "HUd_LTkqt1h2"
      }
    },
    {
      "cell_type": "markdown",
      "source": [
        "# Dataset Download"
      ],
      "metadata": {
        "id": "3_6-ZUpit8FA"
      }
    },
    {
      "cell_type": "code",
      "execution_count": null,
      "metadata": {
        "colab": {
          "base_uri": "https://localhost:8080/"
        },
        "id": "NVVd37G0tdYs",
        "outputId": "39314a24-4f15-49b2-a04a-1aed014d2c2b"
      },
      "outputs": [
        {
          "output_type": "stream",
          "name": "stdout",
          "text": [
            "Downloading...\n",
            "From: https://drive.google.com/uc?id=1I3-pQFzbSufhpMrUKAROBLGULXcWiB9u\n",
            "To: /content/flipitnews-data.csv\n",
            "100% 5.06M/5.06M [00:00<00:00, 18.7MB/s]\n"
          ]
        }
      ],
      "source": [
        "!gdown https://drive.google.com/uc?id=1I3-pQFzbSufhpMrUKAROBLGULXcWiB9u"
      ]
    },
    {
      "cell_type": "code",
      "source": [
        "import pandas as pd\n",
        "\n",
        "df = pd.read_csv('flipitnews-data.csv')\n"
      ],
      "metadata": {
        "id": "UE_vX3sGvoWI"
      },
      "execution_count": null,
      "outputs": []
    },
    {
      "cell_type": "code",
      "source": [
        "df.head()"
      ],
      "metadata": {
        "colab": {
          "base_uri": "https://localhost:8080/",
          "height": 206
        },
        "id": "njlp0Akfwhdf",
        "outputId": "5202a256-e182-47ee-9970-2fc3e0527465"
      },
      "execution_count": null,
      "outputs": [
        {
          "output_type": "execute_result",
          "data": {
            "text/plain": [
              "        Category                                            Article\n",
              "0     Technology  tv future in the hands of viewers with home th...\n",
              "1       Business  worldcom boss  left books alone  former worldc...\n",
              "2         Sports  tigers wary of farrell  gamble  leicester say ...\n",
              "3         Sports  yeading face newcastle in fa cup premiership s...\n",
              "4  Entertainment  ocean s twelve raids box office ocean s twelve..."
            ],
            "text/html": [
              "\n",
              "  <div id=\"df-ec3a4d81-b6a8-4929-8d15-3a6659e9590d\" class=\"colab-df-container\">\n",
              "    <div>\n",
              "<style scoped>\n",
              "    .dataframe tbody tr th:only-of-type {\n",
              "        vertical-align: middle;\n",
              "    }\n",
              "\n",
              "    .dataframe tbody tr th {\n",
              "        vertical-align: top;\n",
              "    }\n",
              "\n",
              "    .dataframe thead th {\n",
              "        text-align: right;\n",
              "    }\n",
              "</style>\n",
              "<table border=\"1\" class=\"dataframe\">\n",
              "  <thead>\n",
              "    <tr style=\"text-align: right;\">\n",
              "      <th></th>\n",
              "      <th>Category</th>\n",
              "      <th>Article</th>\n",
              "    </tr>\n",
              "  </thead>\n",
              "  <tbody>\n",
              "    <tr>\n",
              "      <th>0</th>\n",
              "      <td>Technology</td>\n",
              "      <td>tv future in the hands of viewers with home th...</td>\n",
              "    </tr>\n",
              "    <tr>\n",
              "      <th>1</th>\n",
              "      <td>Business</td>\n",
              "      <td>worldcom boss  left books alone  former worldc...</td>\n",
              "    </tr>\n",
              "    <tr>\n",
              "      <th>2</th>\n",
              "      <td>Sports</td>\n",
              "      <td>tigers wary of farrell  gamble  leicester say ...</td>\n",
              "    </tr>\n",
              "    <tr>\n",
              "      <th>3</th>\n",
              "      <td>Sports</td>\n",
              "      <td>yeading face newcastle in fa cup premiership s...</td>\n",
              "    </tr>\n",
              "    <tr>\n",
              "      <th>4</th>\n",
              "      <td>Entertainment</td>\n",
              "      <td>ocean s twelve raids box office ocean s twelve...</td>\n",
              "    </tr>\n",
              "  </tbody>\n",
              "</table>\n",
              "</div>\n",
              "    <div class=\"colab-df-buttons\">\n",
              "\n",
              "  <div class=\"colab-df-container\">\n",
              "    <button class=\"colab-df-convert\" onclick=\"convertToInteractive('df-ec3a4d81-b6a8-4929-8d15-3a6659e9590d')\"\n",
              "            title=\"Convert this dataframe to an interactive table.\"\n",
              "            style=\"display:none;\">\n",
              "\n",
              "  <svg xmlns=\"http://www.w3.org/2000/svg\" height=\"24px\" viewBox=\"0 -960 960 960\">\n",
              "    <path d=\"M120-120v-720h720v720H120Zm60-500h600v-160H180v160Zm220 220h160v-160H400v160Zm0 220h160v-160H400v160ZM180-400h160v-160H180v160Zm440 0h160v-160H620v160ZM180-180h160v-160H180v160Zm440 0h160v-160H620v160Z\"/>\n",
              "  </svg>\n",
              "    </button>\n",
              "\n",
              "  <style>\n",
              "    .colab-df-container {\n",
              "      display:flex;\n",
              "      gap: 12px;\n",
              "    }\n",
              "\n",
              "    .colab-df-convert {\n",
              "      background-color: #E8F0FE;\n",
              "      border: none;\n",
              "      border-radius: 50%;\n",
              "      cursor: pointer;\n",
              "      display: none;\n",
              "      fill: #1967D2;\n",
              "      height: 32px;\n",
              "      padding: 0 0 0 0;\n",
              "      width: 32px;\n",
              "    }\n",
              "\n",
              "    .colab-df-convert:hover {\n",
              "      background-color: #E2EBFA;\n",
              "      box-shadow: 0px 1px 2px rgba(60, 64, 67, 0.3), 0px 1px 3px 1px rgba(60, 64, 67, 0.15);\n",
              "      fill: #174EA6;\n",
              "    }\n",
              "\n",
              "    .colab-df-buttons div {\n",
              "      margin-bottom: 4px;\n",
              "    }\n",
              "\n",
              "    [theme=dark] .colab-df-convert {\n",
              "      background-color: #3B4455;\n",
              "      fill: #D2E3FC;\n",
              "    }\n",
              "\n",
              "    [theme=dark] .colab-df-convert:hover {\n",
              "      background-color: #434B5C;\n",
              "      box-shadow: 0px 1px 3px 1px rgba(0, 0, 0, 0.15);\n",
              "      filter: drop-shadow(0px 1px 2px rgba(0, 0, 0, 0.3));\n",
              "      fill: #FFFFFF;\n",
              "    }\n",
              "  </style>\n",
              "\n",
              "    <script>\n",
              "      const buttonEl =\n",
              "        document.querySelector('#df-ec3a4d81-b6a8-4929-8d15-3a6659e9590d button.colab-df-convert');\n",
              "      buttonEl.style.display =\n",
              "        google.colab.kernel.accessAllowed ? 'block' : 'none';\n",
              "\n",
              "      async function convertToInteractive(key) {\n",
              "        const element = document.querySelector('#df-ec3a4d81-b6a8-4929-8d15-3a6659e9590d');\n",
              "        const dataTable =\n",
              "          await google.colab.kernel.invokeFunction('convertToInteractive',\n",
              "                                                    [key], {});\n",
              "        if (!dataTable) return;\n",
              "\n",
              "        const docLinkHtml = 'Like what you see? Visit the ' +\n",
              "          '<a target=\"_blank\" href=https://colab.research.google.com/notebooks/data_table.ipynb>data table notebook</a>'\n",
              "          + ' to learn more about interactive tables.';\n",
              "        element.innerHTML = '';\n",
              "        dataTable['output_type'] = 'display_data';\n",
              "        await google.colab.output.renderOutput(dataTable, element);\n",
              "        const docLink = document.createElement('div');\n",
              "        docLink.innerHTML = docLinkHtml;\n",
              "        element.appendChild(docLink);\n",
              "      }\n",
              "    </script>\n",
              "  </div>\n",
              "\n",
              "\n",
              "<div id=\"df-c5fd505e-db43-4092-aa36-973c4a540177\">\n",
              "  <button class=\"colab-df-quickchart\" onclick=\"quickchart('df-c5fd505e-db43-4092-aa36-973c4a540177')\"\n",
              "            title=\"Suggest charts\"\n",
              "            style=\"display:none;\">\n",
              "\n",
              "<svg xmlns=\"http://www.w3.org/2000/svg\" height=\"24px\"viewBox=\"0 0 24 24\"\n",
              "     width=\"24px\">\n",
              "    <g>\n",
              "        <path d=\"M19 3H5c-1.1 0-2 .9-2 2v14c0 1.1.9 2 2 2h14c1.1 0 2-.9 2-2V5c0-1.1-.9-2-2-2zM9 17H7v-7h2v7zm4 0h-2V7h2v10zm4 0h-2v-4h2v4z\"/>\n",
              "    </g>\n",
              "</svg>\n",
              "  </button>\n",
              "\n",
              "<style>\n",
              "  .colab-df-quickchart {\n",
              "      --bg-color: #E8F0FE;\n",
              "      --fill-color: #1967D2;\n",
              "      --hover-bg-color: #E2EBFA;\n",
              "      --hover-fill-color: #174EA6;\n",
              "      --disabled-fill-color: #AAA;\n",
              "      --disabled-bg-color: #DDD;\n",
              "  }\n",
              "\n",
              "  [theme=dark] .colab-df-quickchart {\n",
              "      --bg-color: #3B4455;\n",
              "      --fill-color: #D2E3FC;\n",
              "      --hover-bg-color: #434B5C;\n",
              "      --hover-fill-color: #FFFFFF;\n",
              "      --disabled-bg-color: #3B4455;\n",
              "      --disabled-fill-color: #666;\n",
              "  }\n",
              "\n",
              "  .colab-df-quickchart {\n",
              "    background-color: var(--bg-color);\n",
              "    border: none;\n",
              "    border-radius: 50%;\n",
              "    cursor: pointer;\n",
              "    display: none;\n",
              "    fill: var(--fill-color);\n",
              "    height: 32px;\n",
              "    padding: 0;\n",
              "    width: 32px;\n",
              "  }\n",
              "\n",
              "  .colab-df-quickchart:hover {\n",
              "    background-color: var(--hover-bg-color);\n",
              "    box-shadow: 0 1px 2px rgba(60, 64, 67, 0.3), 0 1px 3px 1px rgba(60, 64, 67, 0.15);\n",
              "    fill: var(--button-hover-fill-color);\n",
              "  }\n",
              "\n",
              "  .colab-df-quickchart-complete:disabled,\n",
              "  .colab-df-quickchart-complete:disabled:hover {\n",
              "    background-color: var(--disabled-bg-color);\n",
              "    fill: var(--disabled-fill-color);\n",
              "    box-shadow: none;\n",
              "  }\n",
              "\n",
              "  .colab-df-spinner {\n",
              "    border: 2px solid var(--fill-color);\n",
              "    border-color: transparent;\n",
              "    border-bottom-color: var(--fill-color);\n",
              "    animation:\n",
              "      spin 1s steps(1) infinite;\n",
              "  }\n",
              "\n",
              "  @keyframes spin {\n",
              "    0% {\n",
              "      border-color: transparent;\n",
              "      border-bottom-color: var(--fill-color);\n",
              "      border-left-color: var(--fill-color);\n",
              "    }\n",
              "    20% {\n",
              "      border-color: transparent;\n",
              "      border-left-color: var(--fill-color);\n",
              "      border-top-color: var(--fill-color);\n",
              "    }\n",
              "    30% {\n",
              "      border-color: transparent;\n",
              "      border-left-color: var(--fill-color);\n",
              "      border-top-color: var(--fill-color);\n",
              "      border-right-color: var(--fill-color);\n",
              "    }\n",
              "    40% {\n",
              "      border-color: transparent;\n",
              "      border-right-color: var(--fill-color);\n",
              "      border-top-color: var(--fill-color);\n",
              "    }\n",
              "    60% {\n",
              "      border-color: transparent;\n",
              "      border-right-color: var(--fill-color);\n",
              "    }\n",
              "    80% {\n",
              "      border-color: transparent;\n",
              "      border-right-color: var(--fill-color);\n",
              "      border-bottom-color: var(--fill-color);\n",
              "    }\n",
              "    90% {\n",
              "      border-color: transparent;\n",
              "      border-bottom-color: var(--fill-color);\n",
              "    }\n",
              "  }\n",
              "</style>\n",
              "\n",
              "  <script>\n",
              "    async function quickchart(key) {\n",
              "      const quickchartButtonEl =\n",
              "        document.querySelector('#' + key + ' button');\n",
              "      quickchartButtonEl.disabled = true;  // To prevent multiple clicks.\n",
              "      quickchartButtonEl.classList.add('colab-df-spinner');\n",
              "      try {\n",
              "        const charts = await google.colab.kernel.invokeFunction(\n",
              "            'suggestCharts', [key], {});\n",
              "      } catch (error) {\n",
              "        console.error('Error during call to suggestCharts:', error);\n",
              "      }\n",
              "      quickchartButtonEl.classList.remove('colab-df-spinner');\n",
              "      quickchartButtonEl.classList.add('colab-df-quickchart-complete');\n",
              "    }\n",
              "    (() => {\n",
              "      let quickchartButtonEl =\n",
              "        document.querySelector('#df-c5fd505e-db43-4092-aa36-973c4a540177 button');\n",
              "      quickchartButtonEl.style.display =\n",
              "        google.colab.kernel.accessAllowed ? 'block' : 'none';\n",
              "    })();\n",
              "  </script>\n",
              "</div>\n",
              "\n",
              "    </div>\n",
              "  </div>\n"
            ],
            "application/vnd.google.colaboratory.intrinsic+json": {
              "type": "dataframe",
              "variable_name": "df",
              "summary": "{\n  \"name\": \"df\",\n  \"rows\": 2225,\n  \"fields\": [\n    {\n      \"column\": \"Category\",\n      \"properties\": {\n        \"dtype\": \"category\",\n        \"num_unique_values\": 5,\n        \"samples\": [\n          \"Business\",\n          \"Politics\",\n          \"Sports\"\n        ],\n        \"semantic_type\": \"\",\n        \"description\": \"\"\n      }\n    },\n    {\n      \"column\": \"Article\",\n      \"properties\": {\n        \"dtype\": \"string\",\n        \"num_unique_values\": 2126,\n        \"samples\": [\n          \"plan to give elderly care control elderly and disabled people would choose how their own budget for personal care was spent and organised under government plans.  ministers say elderly and disabled people themselves  not social workers  should be able to decide on their care and stay in their own homes. they also plan a supremo for adult services in each english area to get different agencies working together. but the government shunned opponents  calls for free long-term care.  there are 1.7m people needing care in england and ministers suggest the number could quadruple by 2050. monday s consultation paper on social care for adults in england is aimed at ending a system which generates dependency. health minister stephen ladyman said:  this document is the antithesis of the nanny state.   it s about taking power away from the state and giving it to individuals and saying that we will help you make these decisions but we are not going to make them for you any more.  the government has already allowed local councils to give people money so they can pay for their services directly but take-up of the scheme has been  disappointing .  ministers say the new plans would make direct payments simpler and try to counter reluctance in some local councils to use the payments. they also want to set up a new  half-way house  where social workers tell people how much money is available for their care and help them choose how to spend that  individual budget . the scheme will be funded on existing budgets set until 2008. but mr ladyman said the plans could deliver savings in some areas  such as freeing up nhs beds and preventing illnesses. he ruled out free personal care in england - which is on offer in scotland and wales  saying it was  unsustainable .  david rogers  from the local government association  said agencies were working together on the kind of innovation proposed by the government. and tony hunter  president of the association of directors of social services  said the plans could improve dignity and well-being for thousands of people. but age concern argued social care was chronically under-funded and older people were being offered choice in principle  but not in practice. its director general  gordon lishman  said:  direct payments will not work if there are no services for people to choose from locally.   the tories say people who pay for three years  long-term care directly or through insurance should be guaranteed free care for the rest of their lives. tory spokesman simon burns said more than 80 000 long term care places had been lost since 1997.  after eight years of persistent change  dogmatic enforcement of regulation  and overbearing government initiatives - we need action  not a vision   said mr burns. the lib dems say they would fund free personal care by a new 50% tax rate on incomes over \\u00a3100 000. health spokesman paul burstow said:  promoting independence sounds good and helping people to live in their own homes is a goal we share.  but the risk is that independence can turn into isolation if the right support and care is not available.\",\n          \"beer giant swallows russian firm brewing giant inbev has agreed to buy alfa-eco s stake in sun interbrew  russia s second-largest brewer  for up to 259.7m euros ($353.3m; \\u00a3183.75m).  alfa-eco  the venture capital arm of russian conglomerate alfa group  has a one-fifth stake in sun interbrew. the deal gives inbev  the world s biggest beermaker  near-total control over the russian brewer. inbev bought out another partner in august 2004. inbev brands include bass  stella artois  hoegaarden and staropramen. it employs 77 000 people  running operations in over 30 countries across the americas  europe and asia pacific.  the leuven-based brewery said it would own 97.3% of the voting shares and 98.8% of the non-voting shares of sun interbrew. the deal is expected to be completed in the first quarter of 2005. inbev was formed in august 2004 when belgium s interbrew bought brazilian brewer ambev. sun interbrew  which employs 8 000 staff  owns breweries in eight russian cities - klin  ivanovo  saransk  kursk  volzhsky  omsk  perm and novocheboksarsk. there are also three breweries in ukraine  in the cities of chernigov  nikolaev and kharkov.\",\n          \"athens memories soar above lows well  it s goodbye to another olympic year and as usual there were plenty of highs and lows in athens.  obviously  there s no getting away from the differing fortunes of kelly holmes and paula radcliffe. but i want to remind you of a few more events that made 2004 another year to remember - or forget - for athletics.      one of my favourite olympic moments was kelly s success in the 800m.  winning that race was the key to her success because if she won that then the 1500m would be a bit of a formality. kelly had been full of  should i  shouldn t i   thoughts about going for the double in athens. i thought why wouldn t you do the 800m  it s your best event  it was such good fun to commentate on her 1500m and it was nice to be able to be part of her athens story.      the victory for the british men s 4x100m relay team was a bit of a surprise but a great climax to the games. i think the four of them - jason gardener  darren campbell  marlon devonish and mark lewis-francis - knew deep down that it was their best chance of a medal. the lads had run poorly in the individual sprints so maybe they did lift their game when they knew something was really at stake.      hicham el guerrouj s olympic double is a much bigger achievement than kelly s on a global scale.  he was the first man since for 80 years to win both the 1500m and 5 000m titles. as soon as he had added the 5 000m crown and i had finished commentating  i jumped up  ran down the stairs  pushed everyone out the way and just gave him a big hug. he is one of the few african runners who has embraced the tradition of the mile and he loves to hear all the roger bannister stories. hicham is someone i enjoy having a bit of time with  even though my french and his english are not very good.      what happened to paula in athens this year is the obvious low on a personal level and for the expectations of the nation as well. there were a set of circumstances around athens that conspired to produce a very dramatic ending which i think has been greatly misunderstood. dropping out of the marathon was the right thing to do but starting in the 10 000m five days later was not wise. that was her heart and not her head reacting. paula had a lot of little things going wrong in her preparation and on the day.  things like niggling injuries  not being able to do all her running sessions and feeling the pressure of the race looming ahead of her. i think she came to the start line in athens physically and emotionally drained. and if even the smallest thing doesn t feel right when you are preparing to race a marathon  10 miles down the road it will hit you like a brick wall. the positive thing to take from paula s olympics it that she will have learned a lot from it and so will a lot of people - including me.      purely as a race  paula s victory in the new york marathon has to go down as one of the most thrilling. it was so nip-and-tuck between her and kenya s susan chepkemei and you don t usually get that kind of excitement in marathons. it was also a real delight for all athletics fans because  to use one of my favourite words  paula showed real  bouncebackability . and it was a bit of a rarity for me too because i genuinely did not have an inkling how the race was going to pan out.      kelly and the 4x100m boys  victories papered over the cracks in the general performance of the british team. we should be concerned that we re not producing enough people who are capable of reaching finals at senior level.  the only individual men s finalist on the track was michael east in the 1500m. i am beginning to look down and wonder where are the new breed  and that s where things begin to look even gloomier for british athletics as we did not win any medals at the world junior championships in italy. dani barnes came fourth in the 1500m and she was the highest finisher for team gb. the thing is if we don t have athletes getting into the finals at junior level then it really doesn t look good for the beijing olympics and beyond.      i tell you what i really enjoyed this year  benita johnson winning the world cross country championships back in march. in the absence of paula  we tend to think of the event as something of an african preserve. so to have an australian come up and deliver such a surprise was something special.      to be honest  i m getting bored with all the drug scandals  especially balco. i just wish the whole thing would come to a head so we can move on.  having said that  i m always pleased when drugs cheats are caught because it shows the sport is standing up to it and not turning a blind eye anymore. and one of the positive things to come out of balco is people are starting to blow the whistle. we need more people to come forward and help the authorities kick out the cheats. as regards the case against greek sprinters kostas kenteris and katerina thanou  well suspicions have been hanging over kenteris for a while. the bottom line is we cannot keep letting drugs damage the sport because if we do then it stops everyone enjoying it.\"\n        ],\n        \"semantic_type\": \"\",\n        \"description\": \"\"\n      }\n    }\n  ]\n}"
            }
          },
          "metadata": {},
          "execution_count": 5
        }
      ]
    },
    {
      "cell_type": "code",
      "source": [
        "df.shape"
      ],
      "metadata": {
        "colab": {
          "base_uri": "https://localhost:8080/"
        },
        "id": "Z9D0lgijwiU6",
        "outputId": "d65079e9-dcec-4b98-c6e8-beb8410f2553"
      },
      "execution_count": null,
      "outputs": [
        {
          "output_type": "execute_result",
          "data": {
            "text/plain": [
              "(2225, 2)"
            ]
          },
          "metadata": {},
          "execution_count": 6
        }
      ]
    },
    {
      "cell_type": "code",
      "source": [
        "df['Category'].value_counts()"
      ],
      "metadata": {
        "colab": {
          "base_uri": "https://localhost:8080/",
          "height": 272
        },
        "id": "GLq68ukPwnoZ",
        "outputId": "d2488247-baad-4ab9-949b-9c2e0d61db1a"
      },
      "execution_count": null,
      "outputs": [
        {
          "output_type": "execute_result",
          "data": {
            "text/plain": [
              "Category\n",
              "Sports           511\n",
              "Business         510\n",
              "Politics         417\n",
              "Technology       401\n",
              "Entertainment    386\n",
              "Name: count, dtype: int64"
            ],
            "text/html": [
              "<div>\n",
              "<style scoped>\n",
              "    .dataframe tbody tr th:only-of-type {\n",
              "        vertical-align: middle;\n",
              "    }\n",
              "\n",
              "    .dataframe tbody tr th {\n",
              "        vertical-align: top;\n",
              "    }\n",
              "\n",
              "    .dataframe thead th {\n",
              "        text-align: right;\n",
              "    }\n",
              "</style>\n",
              "<table border=\"1\" class=\"dataframe\">\n",
              "  <thead>\n",
              "    <tr style=\"text-align: right;\">\n",
              "      <th></th>\n",
              "      <th>count</th>\n",
              "    </tr>\n",
              "    <tr>\n",
              "      <th>Category</th>\n",
              "      <th></th>\n",
              "    </tr>\n",
              "  </thead>\n",
              "  <tbody>\n",
              "    <tr>\n",
              "      <th>Sports</th>\n",
              "      <td>511</td>\n",
              "    </tr>\n",
              "    <tr>\n",
              "      <th>Business</th>\n",
              "      <td>510</td>\n",
              "    </tr>\n",
              "    <tr>\n",
              "      <th>Politics</th>\n",
              "      <td>417</td>\n",
              "    </tr>\n",
              "    <tr>\n",
              "      <th>Technology</th>\n",
              "      <td>401</td>\n",
              "    </tr>\n",
              "    <tr>\n",
              "      <th>Entertainment</th>\n",
              "      <td>386</td>\n",
              "    </tr>\n",
              "  </tbody>\n",
              "</table>\n",
              "</div><br><label><b>dtype:</b> int64</label>"
            ]
          },
          "metadata": {},
          "execution_count": 7
        }
      ]
    },
    {
      "cell_type": "code",
      "source": [
        "import matplotlib.pyplot as plt\n",
        "\n",
        "article_categories = ['Politics', 'Sports', 'Technology', 'Business', 'Entertainment']\n",
        "category_counts = [417, 511, 401, 510, 386]\n",
        "\n",
        "plt.figure(figsize=(8, 6))\n",
        "\n",
        "plt.bar(article_categories, category_counts, edgecolor='black')\n",
        "\n",
        "plt.title(\"Distribution of Article Categories\")\n",
        "plt.xlabel(\"Category\")\n",
        "plt.ylabel(\"Frequency\")\n",
        "\n",
        "plt.show()\n"
      ],
      "metadata": {
        "colab": {
          "base_uri": "https://localhost:8080/",
          "height": 564
        },
        "id": "0Li1B5QdwsES",
        "outputId": "15659a58-0e85-428c-92ea-c33231a9850e"
      },
      "execution_count": null,
      "outputs": [
        {
          "output_type": "display_data",
          "data": {
            "text/plain": [
              "<Figure size 800x600 with 1 Axes>"
            ],
            "image/png": "[encoded data removed]"
          },
          "metadata": {}
        }
      ]
    },
    {
      "cell_type": "markdown",
      "source": [
        "**Sports category has maximum number of articles, closely followed by business.**\n",
        "\n",
        "**Entertainment has the least number of articles.**"
      ],
      "metadata": {
        "id": "4JJ4Z89p62qg"
      }
    },
    {
      "cell_type": "markdown",
      "source": [
        "# Pre-processing the Article"
      ],
      "metadata": {
        "id": "NfreuiTG9JfL"
      }
    },
    {
      "cell_type": "code",
      "source": [
        "import re\n",
        "import nltk\n",
        "from nltk.corpus import stopwords\n",
        "from nltk.stem import WordNetLemmatizer\n",
        "from sklearn.preprocessing import LabelEncoder\n",
        "\n",
        "nltk.download('stopwords')\n",
        "nltk.download('wordnet')\n",
        "\n",
        "\n",
        "# Initialize NLP tools\n",
        "lemmatizer = WordNetLemmatizer()\n",
        "stop_words = set(stopwords.words(\"english\"))\n",
        "\n",
        "def preprocess_text(text):\n",
        "\n",
        "    # convert text to lowercase\n",
        "    text = text.lower()\n",
        "\n",
        "    # Remove punctuation and special characters\n",
        "    text = re.sub(r'[^\\w\\s]', '', text)\n",
        "\n",
        "    # Remove numbers\n",
        "    text = re.sub(r'\\d+', '', text)\n",
        "\n",
        "    # Tokenize\n",
        "    words = text.split()\n",
        "\n",
        "    # Lemmatize and remove stop words\n",
        "    words = [lemmatizer.lemmatize(word) for word in words if word not in stop_words]\n",
        "    return \" \".join(words)\n",
        "\n",
        "# Apply preprocessing to the 'article' column\n",
        "df['cleaned_article'] = df['Article'].apply(preprocess_text)\n",
        "\n",
        "# Encode the target variable\n",
        "label_encoder = LabelEncoder()\n",
        "df['category_encoded'] = label_encoder.fit_transform(df['Category'])\n"
      ],
      "metadata": {
        "id": "DaqByzQ31U3V",
        "colab": {
          "base_uri": "https://localhost:8080/"
        },
        "outputId": "554e27e9-b864-42c4-bcf6-bd1158d2b5ad"
      },
      "execution_count": null,
      "outputs": [
        {
          "output_type": "stream",
          "name": "stderr",
          "text": [
            "[nltk_data] Downloading package stopwords to /root/nltk_data...\n",
            "[nltk_data]   Unzipping corpora/stopwords.zip.\n",
            "[nltk_data] Downloading package wordnet to /root/nltk_data...\n"
          ]
        }
      ]
    },
    {
      "cell_type": "code",
      "source": [
        "df.head()"
      ],
      "metadata": {
        "id": "eTPcl7vxCzrK",
        "colab": {
          "base_uri": "https://localhost:8080/",
          "height": 206
        },
        "outputId": "968c1284-d324-4087-84c9-7ecf64c6cadc"
      },
      "execution_count": null,
      "outputs": [
        {
          "output_type": "execute_result",
          "data": {
            "text/plain": [
              "        Category                                            Article  \\\n",
              "0     Technology  tv future in the hands of viewers with home th...   \n",
              "1       Business  worldcom boss  left books alone  former worldc...   \n",
              "2         Sports  tigers wary of farrell  gamble  leicester say ...   \n",
              "3         Sports  yeading face newcastle in fa cup premiership s...   \n",
              "4  Entertainment  ocean s twelve raids box office ocean s twelve...   \n",
              "\n",
              "                                     cleaned_article  category_encoded  \n",
              "0  tv future hand viewer home theatre system plas...                 4  \n",
              "1  worldcom bos left book alone former worldcom b...                 0  \n",
              "2  tiger wary farrell gamble leicester say rushed...                 3  \n",
              "3  yeading face newcastle fa cup premiership side...                 3  \n",
              "4  ocean twelve raid box office ocean twelve crim...                 1  "
            ],
            "text/html": [
              "\n",
              "  <div id=\"df-27180dd9-a8d1-488c-81fd-88f6b39814a0\" class=\"colab-df-container\">\n",
              "    <div>\n",
              "<style scoped>\n",
              "    .dataframe tbody tr th:only-of-type {\n",
              "        vertical-align: middle;\n",
              "    }\n",
              "\n",
              "    .dataframe tbody tr th {\n",
              "        vertical-align: top;\n",
              "    }\n",
              "\n",
              "    .dataframe thead th {\n",
              "        text-align: right;\n",
              "    }\n",
              "</style>\n",
              "<table border=\"1\" class=\"dataframe\">\n",
              "  <thead>\n",
              "    <tr style=\"text-align: right;\">\n",
              "      <th></th>\n",
              "      <th>Category</th>\n",
              "      <th>Article</th>\n",
              "      <th>cleaned_article</th>\n",
              "      <th>category_encoded</th>\n",
              "    </tr>\n",
              "  </thead>\n",
              "  <tbody>\n",
              "    <tr>\n",
              "      <th>0</th>\n",
              "      <td>Technology</td>\n",
              "      <td>tv future in the hands of viewers with home th...</td>\n",
              "      <td>tv future hand viewer home theatre system plas...</td>\n",
              "      <td>4</td>\n",
              "    </tr>\n",
              "    <tr>\n",
              "      <th>1</th>\n",
              "      <td>Business</td>\n",
              "      <td>worldcom boss  left books alone  former worldc...</td>\n",
              "      <td>worldcom bos left book alone former worldcom b...</td>\n",
              "      <td>0</td>\n",
              "    </tr>\n",
              "    <tr>\n",
              "      <th>2</th>\n",
              "      <td>Sports</td>\n",
              "      <td>tigers wary of farrell  gamble  leicester say ...</td>\n",
              "      <td>tiger wary farrell gamble leicester say rushed...</td>\n",
              "      <td>3</td>\n",
              "    </tr>\n",
              "    <tr>\n",
              "      <th>3</th>\n",
              "      <td>Sports</td>\n",
              "      <td>yeading face newcastle in fa cup premiership s...</td>\n",
              "      <td>yeading face newcastle fa cup premiership side...</td>\n",
              "      <td>3</td>\n",
              "    </tr>\n",
              "    <tr>\n",
              "      <th>4</th>\n",
              "      <td>Entertainment</td>\n",
              "      <td>ocean s twelve raids box office ocean s twelve...</td>\n",
              "      <td>ocean twelve raid box office ocean twelve crim...</td>\n",
              "      <td>1</td>\n",
              "    </tr>\n",
              "  </tbody>\n",
              "</table>\n",
              "</div>\n",
              "    <div class=\"colab-df-buttons\">\n",
              "\n",
              "  <div class=\"colab-df-container\">\n",
              "    <button class=\"colab-df-convert\" onclick=\"convertToInteractive('df-27180dd9-a8d1-488c-81fd-88f6b39814a0')\"\n",
              "            title=\"Convert this dataframe to an interactive table.\"\n",
              "            style=\"display:none;\">\n",
              "\n",
              "  <svg xmlns=\"http://www.w3.org/2000/svg\" height=\"24px\" viewBox=\"0 -960 960 960\">\n",
              "    <path d=\"M120-120v-720h720v720H120Zm60-500h600v-160H180v160Zm220 220h160v-160H400v160Zm0 220h160v-160H400v160ZM180-400h160v-160H180v160Zm440 0h160v-160H620v160ZM180-180h160v-160H180v160Zm440 0h160v-160H620v160Z\"/>\n",
              "  </svg>\n",
              "    </button>\n",
              "\n",
              "  <style>\n",
              "    .colab-df-container {\n",
              "      display:flex;\n",
              "      gap: 12px;\n",
              "    }\n",
              "\n",
              "    .colab-df-convert {\n",
              "      background-color: #E8F0FE;\n",
              "      border: none;\n",
              "      border-radius: 50%;\n",
              "      cursor: pointer;\n",
              "      display: none;\n",
              "      fill: #1967D2;\n",
              "      height: 32px;\n",
              "      padding: 0 0 0 0;\n",
              "      width: 32px;\n",
              "    }\n",
              "\n",
              "    .colab-df-convert:hover {\n",
              "      background-color: #E2EBFA;\n",
              "      box-shadow: 0px 1px 2px rgba(60, 64, 67, 0.3), 0px 1px 3px 1px rgba(60, 64, 67, 0.15);\n",
              "      fill: #174EA6;\n",
              "    }\n",
              "\n",
              "    .colab-df-buttons div {\n",
              "      margin-bottom: 4px;\n",
              "    }\n",
              "\n",
              "    [theme=dark] .colab-df-convert {\n",
              "      background-color: #3B4455;\n",
              "      fill: #D2E3FC;\n",
              "    }\n",
              "\n",
              "    [theme=dark] .colab-df-convert:hover {\n",
              "      background-color: #434B5C;\n",
              "      box-shadow: 0px 1px 3px 1px rgba(0, 0, 0, 0.15);\n",
              "      filter: drop-shadow(0px 1px 2px rgba(0, 0, 0, 0.3));\n",
              "      fill: #FFFFFF;\n",
              "    }\n",
              "  </style>\n",
              "\n",
              "    <script>\n",
              "      const buttonEl =\n",
              "        document.querySelector('#df-27180dd9-a8d1-488c-81fd-88f6b39814a0 button.colab-df-convert');\n",
              "      buttonEl.style.display =\n",
              "        google.colab.kernel.accessAllowed ? 'block' : 'none';\n",
              "\n",
              "      async function convertToInteractive(key) {\n",
              "        const element = document.querySelector('#df-27180dd9-a8d1-488c-81fd-88f6b39814a0');\n",
              "        const dataTable =\n",
              "          await google.colab.kernel.invokeFunction('convertToInteractive',\n",
              "                                                    [key], {});\n",
              "        if (!dataTable) return;\n",
              "\n",
              "        const docLinkHtml = 'Like what you see? Visit the ' +\n",
              "          '<a target=\"_blank\" href=https://colab.research.google.com/notebooks/data_table.ipynb>data table notebook</a>'\n",
              "          + ' to learn more about interactive tables.';\n",
              "        element.innerHTML = '';\n",
              "        dataTable['output_type'] = 'display_data';\n",
              "        await google.colab.output.renderOutput(dataTable, element);\n",
              "        const docLink = document.createElement('div');\n",
              "        docLink.innerHTML = docLinkHtml;\n",
              "        element.appendChild(docLink);\n",
              "      }\n",
              "    </script>\n",
              "  </div>\n",
              "\n",
              "\n",
              "<div id=\"df-07d8e2c6-876f-43fa-ae72-3c5fc2f32fdb\">\n",
              "  <button class=\"colab-df-quickchart\" onclick=\"quickchart('df-07d8e2c6-876f-43fa-ae72-3c5fc2f32fdb')\"\n",
              "            title=\"Suggest charts\"\n",
              "            style=\"display:none;\">\n",
              "\n",
              "<svg xmlns=\"http://www.w3.org/2000/svg\" height=\"24px\"viewBox=\"0 0 24 24\"\n",
              "     width=\"24px\">\n",
              "    <g>\n",
              "        <path d=\"M19 3H5c-1.1 0-2 .9-2 2v14c0 1.1.9 2 2 2h14c1.1 0 2-.9 2-2V5c0-1.1-.9-2-2-2zM9 17H7v-7h2v7zm4 0h-2V7h2v10zm4 0h-2v-4h2v4z\"/>\n",
              "    </g>\n",
              "</svg>\n",
              "  </button>\n",
              "\n",
              "<style>\n",
              "  .colab-df-quickchart {\n",
              "      --bg-color: #E8F0FE;\n",
              "      --fill-color: #1967D2;\n",
              "      --hover-bg-color: #E2EBFA;\n",
              "      --hover-fill-color: #174EA6;\n",
              "      --disabled-fill-color: #AAA;\n",
              "      --disabled-bg-color: #DDD;\n",
              "  }\n",
              "\n",
              "  [theme=dark] .colab-df-quickchart {\n",
              "      --bg-color: #3B4455;\n",
              "      --fill-color: #D2E3FC;\n",
              "      --hover-bg-color: #434B5C;\n",
              "      --hover-fill-color: #FFFFFF;\n",
              "      --disabled-bg-color: #3B4455;\n",
              "      --disabled-fill-color: #666;\n",
              "  }\n",
              "\n",
              "  .colab-df-quickchart {\n",
              "    background-color: var(--bg-color);\n",
              "    border: none;\n",
              "    border-radius: 50%;\n",
              "    cursor: pointer;\n",
              "    display: none;\n",
              "    fill: var(--fill-color);\n",
              "    height: 32px;\n",
              "    padding: 0;\n",
              "    width: 32px;\n",
              "  }\n",
              "\n",
              "  .colab-df-quickchart:hover {\n",
              "    background-color: var(--hover-bg-color);\n",
              "    box-shadow: 0 1px 2px rgba(60, 64, 67, 0.3), 0 1px 3px 1px rgba(60, 64, 67, 0.15);\n",
              "    fill: var(--button-hover-fill-color);\n",
              "  }\n",
              "\n",
              "  .colab-df-quickchart-complete:disabled,\n",
              "  .colab-df-quickchart-complete:disabled:hover {\n",
              "    background-color: var(--disabled-bg-color);\n",
              "    fill: var(--disabled-fill-color);\n",
              "    box-shadow: none;\n",
              "  }\n",
              "\n",
              "  .colab-df-spinner {\n",
              "    border: 2px solid var(--fill-color);\n",
              "    border-color: transparent;\n",
              "    border-bottom-color: var(--fill-color);\n",
              "    animation:\n",
              "      spin 1s steps(1) infinite;\n",
              "  }\n",
              "\n",
              "  @keyframes spin {\n",
              "    0% {\n",
              "      border-color: transparent;\n",
              "      border-bottom-color: var(--fill-color);\n",
              "      border-left-color: var(--fill-color);\n",
              "    }\n",
              "    20% {\n",
              "      border-color: transparent;\n",
              "      border-left-color: var(--fill-color);\n",
              "      border-top-color: var(--fill-color);\n",
              "    }\n",
              "    30% {\n",
              "      border-color: transparent;\n",
              "      border-left-color: var(--fill-color);\n",
              "      border-top-color: var(--fill-color);\n",
              "      border-right-color: var(--fill-color);\n",
              "    }\n",
              "    40% {\n",
              "      border-color: transparent;\n",
              "      border-right-color: var(--fill-color);\n",
              "      border-top-color: var(--fill-color);\n",
              "    }\n",
              "    60% {\n",
              "      border-color: transparent;\n",
              "      border-right-color: var(--fill-color);\n",
              "    }\n",
              "    80% {\n",
              "      border-color: transparent;\n",
              "      border-right-color: var(--fill-color);\n",
              "      border-bottom-color: var(--fill-color);\n",
              "    }\n",
              "    90% {\n",
              "      border-color: transparent;\n",
              "      border-bottom-color: var(--fill-color);\n",
              "    }\n",
              "  }\n",
              "</style>\n",
              "\n",
              "  <script>\n",
              "    async function quickchart(key) {\n",
              "      const quickchartButtonEl =\n",
              "        document.querySelector('#' + key + ' button');\n",
              "      quickchartButtonEl.disabled = true;  // To prevent multiple clicks.\n",
              "      quickchartButtonEl.classList.add('colab-df-spinner');\n",
              "      try {\n",
              "        const charts = await google.colab.kernel.invokeFunction(\n",
              "            'suggestCharts', [key], {});\n",
              "      } catch (error) {\n",
              "        console.error('Error during call to suggestCharts:', error);\n",
              "      }\n",
              "      quickchartButtonEl.classList.remove('colab-df-spinner');\n",
              "      quickchartButtonEl.classList.add('colab-df-quickchart-complete');\n",
              "    }\n",
              "    (() => {\n",
              "      let quickchartButtonEl =\n",
              "        document.querySelector('#df-07d8e2c6-876f-43fa-ae72-3c5fc2f32fdb button');\n",
              "      quickchartButtonEl.style.display =\n",
              "        google.colab.kernel.accessAllowed ? 'block' : 'none';\n",
              "    })();\n",
              "  </script>\n",
              "</div>\n",
              "\n",
              "    </div>\n",
              "  </div>\n"
            ],
            "application/vnd.google.colaboratory.intrinsic+json": {
              "type": "dataframe",
              "variable_name": "df",
              "summary": "{\n  \"name\": \"df\",\n  \"rows\": 2225,\n  \"fields\": [\n    {\n      \"column\": \"Category\",\n      \"properties\": {\n        \"dtype\": \"category\",\n        \"num_unique_values\": 5,\n        \"samples\": [\n          \"Business\",\n          \"Politics\",\n          \"Sports\"\n        ],\n        \"semantic_type\": \"\",\n        \"description\": \"\"\n      }\n    },\n    {\n      \"column\": \"Article\",\n      \"properties\": {\n        \"dtype\": \"string\",\n        \"num_unique_values\": 2126,\n        \"samples\": [\n          \"plan to give elderly care control elderly and disabled people would choose how their own budget for personal care was spent and organised under government plans.  ministers say elderly and disabled people themselves  not social workers  should be able to decide on their care and stay in their own homes. they also plan a supremo for adult services in each english area to get different agencies working together. but the government shunned opponents  calls for free long-term care.  there are 1.7m people needing care in england and ministers suggest the number could quadruple by 2050. monday s consultation paper on social care for adults in england is aimed at ending a system which generates dependency. health minister stephen ladyman said:  this document is the antithesis of the nanny state.   it s about taking power away from the state and giving it to individuals and saying that we will help you make these decisions but we are not going to make them for you any more.  the government has already allowed local councils to give people money so they can pay for their services directly but take-up of the scheme has been  disappointing .  ministers say the new plans would make direct payments simpler and try to counter reluctance in some local councils to use the payments. they also want to set up a new  half-way house  where social workers tell people how much money is available for their care and help them choose how to spend that  individual budget . the scheme will be funded on existing budgets set until 2008. but mr ladyman said the plans could deliver savings in some areas  such as freeing up nhs beds and preventing illnesses. he ruled out free personal care in england - which is on offer in scotland and wales  saying it was  unsustainable .  david rogers  from the local government association  said agencies were working together on the kind of innovation proposed by the government. and tony hunter  president of the association of directors of social services  said the plans could improve dignity and well-being for thousands of people. but age concern argued social care was chronically under-funded and older people were being offered choice in principle  but not in practice. its director general  gordon lishman  said:  direct payments will not work if there are no services for people to choose from locally.   the tories say people who pay for three years  long-term care directly or through insurance should be guaranteed free care for the rest of their lives. tory spokesman simon burns said more than 80 000 long term care places had been lost since 1997.  after eight years of persistent change  dogmatic enforcement of regulation  and overbearing government initiatives - we need action  not a vision   said mr burns. the lib dems say they would fund free personal care by a new 50% tax rate on incomes over \\u00a3100 000. health spokesman paul burstow said:  promoting independence sounds good and helping people to live in their own homes is a goal we share.  but the risk is that independence can turn into isolation if the right support and care is not available.\",\n          \"beer giant swallows russian firm brewing giant inbev has agreed to buy alfa-eco s stake in sun interbrew  russia s second-largest brewer  for up to 259.7m euros ($353.3m; \\u00a3183.75m).  alfa-eco  the venture capital arm of russian conglomerate alfa group  has a one-fifth stake in sun interbrew. the deal gives inbev  the world s biggest beermaker  near-total control over the russian brewer. inbev bought out another partner in august 2004. inbev brands include bass  stella artois  hoegaarden and staropramen. it employs 77 000 people  running operations in over 30 countries across the americas  europe and asia pacific.  the leuven-based brewery said it would own 97.3% of the voting shares and 98.8% of the non-voting shares of sun interbrew. the deal is expected to be completed in the first quarter of 2005. inbev was formed in august 2004 when belgium s interbrew bought brazilian brewer ambev. sun interbrew  which employs 8 000 staff  owns breweries in eight russian cities - klin  ivanovo  saransk  kursk  volzhsky  omsk  perm and novocheboksarsk. there are also three breweries in ukraine  in the cities of chernigov  nikolaev and kharkov.\",\n          \"athens memories soar above lows well  it s goodbye to another olympic year and as usual there were plenty of highs and lows in athens.  obviously  there s no getting away from the differing fortunes of kelly holmes and paula radcliffe. but i want to remind you of a few more events that made 2004 another year to remember - or forget - for athletics.      one of my favourite olympic moments was kelly s success in the 800m.  winning that race was the key to her success because if she won that then the 1500m would be a bit of a formality. kelly had been full of  should i  shouldn t i   thoughts about going for the double in athens. i thought why wouldn t you do the 800m  it s your best event  it was such good fun to commentate on her 1500m and it was nice to be able to be part of her athens story.      the victory for the british men s 4x100m relay team was a bit of a surprise but a great climax to the games. i think the four of them - jason gardener  darren campbell  marlon devonish and mark lewis-francis - knew deep down that it was their best chance of a medal. the lads had run poorly in the individual sprints so maybe they did lift their game when they knew something was really at stake.      hicham el guerrouj s olympic double is a much bigger achievement than kelly s on a global scale.  he was the first man since for 80 years to win both the 1500m and 5 000m titles. as soon as he had added the 5 000m crown and i had finished commentating  i jumped up  ran down the stairs  pushed everyone out the way and just gave him a big hug. he is one of the few african runners who has embraced the tradition of the mile and he loves to hear all the roger bannister stories. hicham is someone i enjoy having a bit of time with  even though my french and his english are not very good.      what happened to paula in athens this year is the obvious low on a personal level and for the expectations of the nation as well. there were a set of circumstances around athens that conspired to produce a very dramatic ending which i think has been greatly misunderstood. dropping out of the marathon was the right thing to do but starting in the 10 000m five days later was not wise. that was her heart and not her head reacting. paula had a lot of little things going wrong in her preparation and on the day.  things like niggling injuries  not being able to do all her running sessions and feeling the pressure of the race looming ahead of her. i think she came to the start line in athens physically and emotionally drained. and if even the smallest thing doesn t feel right when you are preparing to race a marathon  10 miles down the road it will hit you like a brick wall. the positive thing to take from paula s olympics it that she will have learned a lot from it and so will a lot of people - including me.      purely as a race  paula s victory in the new york marathon has to go down as one of the most thrilling. it was so nip-and-tuck between her and kenya s susan chepkemei and you don t usually get that kind of excitement in marathons. it was also a real delight for all athletics fans because  to use one of my favourite words  paula showed real  bouncebackability . and it was a bit of a rarity for me too because i genuinely did not have an inkling how the race was going to pan out.      kelly and the 4x100m boys  victories papered over the cracks in the general performance of the british team. we should be concerned that we re not producing enough people who are capable of reaching finals at senior level.  the only individual men s finalist on the track was michael east in the 1500m. i am beginning to look down and wonder where are the new breed  and that s where things begin to look even gloomier for british athletics as we did not win any medals at the world junior championships in italy. dani barnes came fourth in the 1500m and she was the highest finisher for team gb. the thing is if we don t have athletes getting into the finals at junior level then it really doesn t look good for the beijing olympics and beyond.      i tell you what i really enjoyed this year  benita johnson winning the world cross country championships back in march. in the absence of paula  we tend to think of the event as something of an african preserve. so to have an australian come up and deliver such a surprise was something special.      to be honest  i m getting bored with all the drug scandals  especially balco. i just wish the whole thing would come to a head so we can move on.  having said that  i m always pleased when drugs cheats are caught because it shows the sport is standing up to it and not turning a blind eye anymore. and one of the positive things to come out of balco is people are starting to blow the whistle. we need more people to come forward and help the authorities kick out the cheats. as regards the case against greek sprinters kostas kenteris and katerina thanou  well suspicions have been hanging over kenteris for a while. the bottom line is we cannot keep letting drugs damage the sport because if we do then it stops everyone enjoying it.\"\n        ],\n        \"semantic_type\": \"\",\n        \"description\": \"\"\n      }\n    },\n    {\n      \"column\": \"cleaned_article\",\n      \"properties\": {\n        \"dtype\": \"string\",\n        \"num_unique_values\": 2118,\n        \"samples\": [\n          \"global blogger action day called global web blog community called action lend support two imprisoned iranian blogger monthold committee protect blogger asking blog dedicate site february free mojtaba arash day arash sigarchi mojtaba saminejad prison iran blog free site people publish thought opinion iranian authority clamping prominent site time hope day focus people curt hopkins director committee told bbc news website group list action say blogger take including writing local iranian embassy committee deemed tuesday free mojtaba arash day part first campaign calling blogsphere name worldwide community blogger help raise awareness plight mojtaba arash well cyberdissidents blog least could put nothing blog except free mojtaba arash day said mr hopkins would mean could see phrase million time alone shine light situation one find one dedicated take second technorati blog search engine track six million blog say added daily blog created every second according u research thinktank committee protect blogger started u blogger curt hopkins count fired flight attendant blogger ellen simonetti deputy director since started international blogger bill right global petition protect blogger work although website committed human right issue mean aim hub organisation information support blogger particular right freedom speech committee although month old aim focal point blogger action similar issue future operate nonforprofit organisation blogging weird man land people think one thing another depending point view said mr hopkins think pundit kind like journalist like private blog publishing platform constituency cold human right issue country track record restricting published medium concern blogger question blogger right say want site thorny one received much press attention recently high profile case employee sacked said personal often anonymous blog highlighted muddy situation blogsphere currently big messy argument explained mr hopkins added new way business clamp down way issue get tested court said mr hopkins part whole messy conversation already got blogger company tomorrow blogger policy better start looking one mr hopkins said blogsphere doubling every five month powerful take little time expertise create blog everyone mum radical conservative said many company offer easytouse service create blog publish minute global community essential difference call templating software give every single person earth chance one even computer\",\n          \"capriati miss melbourne jennifer capriati become third leading lady withdraw australian open injury organiser first grand slam begin january said american problem right shoulder come blow woman draw last year champion justin heninhardenne runnerup kim clijsters also absent capriati twotime champion melbourne win believed picked injury advanta championship philadelphia november pull exhibition match wimbledon champion maria sharapova december capriati also decided competing australian open warmup event sydney international\",\n          \"concern school diploma plan final appeal made government ditch reform plan england secondary school put forward tomlinson report government response plan fourtier diploma replace existing qualification expected next week worried could scuppered tony blair ruth kelly suggested gcse alevels stay sir mike tomlinson briefed week said feeling comfortable government likely say read newspaper earlier part week government said still rewriting response friday tragedy government come halfhearted response said chairman common education select committee labour mp barry sheerman main concern report would diploma replace existing vocational qualification must tackle headon structural mess secondary education system wrote time educational supplement case academic stream secondary fine vocational route desperately weak qualification curriculum authority qca also told government compromise qca said potential stepchange participation attainment lay integrity whole diploma partial implementation proposal would view compromise integrity said chairman sir anthony greener sign qca concern advice went minister last december publicised recently people understand white paper response government policy command wider ministerial support coming department education skill may content close many door writing whatever spin put chief inspector school david bell also said recently gcse alevels go one reason strongly favour term disappearing time good symbol change seen right across system said say seachange education miss great opportunity university head teacher independent state sector also backed tomlinson proposal include higher grade advanced level differentiate brightest student note concern expressed repeatedly employer organisation cbi complains lack skill attempt address tomlinson plan test functional math literacy decidedly gcse suggested government take step sort meet firm concern score another dissenter sir mike tomlinson predecessor chief school inspector professor chris woodhead said need massive upheaval conservative party put forward plan revert system brightest percentage student year getting top alevel grade matter well others done\"\n        ],\n        \"semantic_type\": \"\",\n        \"description\": \"\"\n      }\n    },\n    {\n      \"column\": \"category_encoded\",\n      \"properties\": {\n        \"dtype\": \"number\",\n        \"std\": 1,\n        \"min\": 0,\n        \"max\": 4,\n        \"num_unique_values\": 5,\n        \"samples\": [\n          0,\n          2,\n          3\n        ],\n        \"semantic_type\": \"\",\n        \"description\": \"\"\n      }\n    }\n  ]\n}"
            }
          },
          "metadata": {},
          "execution_count": 6
        }
      ]
    },
    {
      "cell_type": "markdown",
      "source": [
        "#Encoding and Transforming data\n"
      ],
      "metadata": {
        "id": "EWVXaDrm9VMM"
      }
    },
    {
      "cell_type": "markdown",
      "source": [
        "# Bag of Words\n",
        "\n",
        "To vectorize data using the Bag-of-Words (BoW) model, we convert text data into a numerical representation where each unique word is represented by a column. Each article is represented as a row, and each cell contains the frequency of a word in that article.\n",
        "\n",
        "CountVectorizer from scikit-learn is used to vectorize document from text to numeric representation."
      ],
      "metadata": {
        "id": "569tbZJkHP0p"
      }
    },
    {
      "cell_type": "code",
      "source": [
        "from sklearn.feature_extraction.text import CountVectorizer\n",
        "\n",
        "# Initialize CountVectorizer\n",
        "vectorizer = CountVectorizer()\n",
        "\n",
        "# Fit and transform the cleaned text data to BoW\n",
        "X = vectorizer.fit_transform(df['cleaned_article'])\n",
        "\n",
        "# Convert to DataFrame\n",
        "bow_df = pd.DataFrame(X.toarray(), columns=vectorizer.get_feature_names_out())\n",
        "\n",
        "# Display the vocabulary and the BoW DataFrame\n",
        "print(\"Vocabulary:\", vectorizer.get_feature_names_out())\n",
        "print(\"\\nBag-of-Words DataFrame:\\n\", bow_df)\n"
      ],
      "metadata": {
        "colab": {
          "base_uri": "https://localhost:8080/"
        },
        "id": "J05uFIOqHqMz",
        "outputId": "777fca51-ce8e-4254-9908-51008e54cbe5"
      },
      "execution_count": null,
      "outputs": [
        {
          "output_type": "stream",
          "name": "stdout",
          "text": [
            "Vocabulary: ['aa' 'aaa' 'aac' ... 'zutons' 'zvonareva' 'zvyagintsev']\n",
            "\n",
            "Bag-of-Words DataFrame:\n",
            "       aa  aaa  aac  aadc  aaliyah  aaltra  aamir  aan  aara  aarhus  ...  \\\n",
            "0      0    0    0     0        0       0      0    0     0       0  ...   \n",
            "1      0    0    0     0        0       0      0    0     0       0  ...   \n",
            "2      0    0    0     0        0       0      0    0     0       0  ...   \n",
            "3      0    0    0     0        0       0      0    0     0       0  ...   \n",
            "4      0    0    0     0        0       0      0    0     0       0  ...   \n",
            "...   ..  ...  ...   ...      ...     ...    ...  ...   ...     ...  ...   \n",
            "2220   0    0    0     0        0       0      0    0     0       0  ...   \n",
            "2221   0    0    0     0        0       0      0    0     0       0  ...   \n",
            "2222   0    0    0     0        0       0      0    0     0       0  ...   \n",
            "2223   0    0    0     0        0       0      0    0     0       0  ...   \n",
            "2224   0    0    0     0        0       0      0    0     0       0  ...   \n",
            "\n",
            "      zoom  zooropa  zornotza  zorro  zubair  zuluaga  zurich  zutons  \\\n",
            "0        0        0         0      0       0        0       0       0   \n",
            "1        0        0         0      0       0        0       0       0   \n",
            "2        0        0         0      0       0        0       0       0   \n",
            "3        0        0         0      0       0        0       0       0   \n",
            "4        0        0         0      0       0        0       0       0   \n",
            "...    ...      ...       ...    ...     ...      ...     ...     ...   \n",
            "2220     0        0         0      0       0        0       0       0   \n",
            "2221     0        0         0      0       0        0       0       0   \n",
            "2222     0        0         0      0       0        0       0       0   \n",
            "2223     0        0         0      0       0        0       0       0   \n",
            "2224     0        0         0      0       0        0       0       0   \n",
            "\n",
            "      zvonareva  zvyagintsev  \n",
            "0             0            0  \n",
            "1             0            0  \n",
            "2             0            0  \n",
            "3             0            0  \n",
            "4             0            0  \n",
            "...         ...          ...  \n",
            "2220          0            0  \n",
            "2221          0            0  \n",
            "2222          0            0  \n",
            "2223          0            0  \n",
            "2224          0            0  \n",
            "\n",
            "[2225 rows x 27177 columns]\n"
          ]
        }
      ]
    },
    {
      "cell_type": "markdown",
      "source": [
        "#TF-IDF Technique\n",
        "\n",
        "The TF-IDF (Term Frequency-Inverse Document Frequency) technique assigns a weight to each word based on its importance in a document relative to the entire corpus. It’s often preferred over the Bag of Words model as it emphasizes unique words in each document rather than just their frequency.\n",
        "\n",
        "Using TfidfVectorizer from scikit-learn, we can vectorize text data into a TF-IDF matrix."
      ],
      "metadata": {
        "id": "rNMB1FN2KltF"
      }
    },
    {
      "cell_type": "code",
      "source": [
        "from sklearn.feature_extraction.text import TfidfVectorizer\n",
        "\n",
        "# Initialize TfidfVectorizer\n",
        "vectorizer = TfidfVectorizer()\n",
        "\n",
        "# Fit and transform the cleaned text data to TF-IDF\n",
        "X = vectorizer.fit_transform(df['cleaned_article'])\n",
        "\n",
        "# Convert to DataFrame\n",
        "tfidf_df = pd.DataFrame(X.toarray(), columns=vectorizer.get_feature_names_out())\n",
        "\n",
        "# Display the vocabulary and the TF-IDF DataFrame\n",
        "print(\"Vocabulary:\", vectorizer.get_feature_names_out())\n",
        "print(\"\\nTF-IDF DataFrame:\\n\", tfidf_df)\n"
      ],
      "metadata": {
        "colab": {
          "base_uri": "https://localhost:8080/"
        },
        "id": "n06jzRDoJmlF",
        "outputId": "52315620-1210-4fd1-e753-2ed1fa8feb07"
      },
      "execution_count": null,
      "outputs": [
        {
          "output_type": "stream",
          "name": "stdout",
          "text": [
            "Vocabulary: ['aa' 'aaa' 'aac' ... 'zutons' 'zvonareva' 'zvyagintsev']\n",
            "\n",
            "TF-IDF DataFrame:\n",
            "        aa  aaa  aac  aadc  aaliyah  aaltra  aamir  aan  aara  aarhus  ...  \\\n",
            "0     0.0  0.0  0.0   0.0      0.0     0.0    0.0  0.0   0.0     0.0  ...   \n",
            "1     0.0  0.0  0.0   0.0      0.0     0.0    0.0  0.0   0.0     0.0  ...   \n",
            "2     0.0  0.0  0.0   0.0      0.0     0.0    0.0  0.0   0.0     0.0  ...   \n",
            "3     0.0  0.0  0.0   0.0      0.0     0.0    0.0  0.0   0.0     0.0  ...   \n",
            "4     0.0  0.0  0.0   0.0      0.0     0.0    0.0  0.0   0.0     0.0  ...   \n",
            "...   ...  ...  ...   ...      ...     ...    ...  ...   ...     ...  ...   \n",
            "2220  0.0  0.0  0.0   0.0      0.0     0.0    0.0  0.0   0.0     0.0  ...   \n",
            "2221  0.0  0.0  0.0   0.0      0.0     0.0    0.0  0.0   0.0     0.0  ...   \n",
            "2222  0.0  0.0  0.0   0.0      0.0     0.0    0.0  0.0   0.0     0.0  ...   \n",
            "2223  0.0  0.0  0.0   0.0      0.0     0.0    0.0  0.0   0.0     0.0  ...   \n",
            "2224  0.0  0.0  0.0   0.0      0.0     0.0    0.0  0.0   0.0     0.0  ...   \n",
            "\n",
            "      zoom  zooropa  zornotza  zorro  zubair  zuluaga  zurich  zutons  \\\n",
            "0      0.0      0.0       0.0    0.0     0.0      0.0     0.0     0.0   \n",
            "1      0.0      0.0       0.0    0.0     0.0      0.0     0.0     0.0   \n",
            "2      0.0      0.0       0.0    0.0     0.0      0.0     0.0     0.0   \n",
            "3      0.0      0.0       0.0    0.0     0.0      0.0     0.0     0.0   \n",
            "4      0.0      0.0       0.0    0.0     0.0      0.0     0.0     0.0   \n",
            "...    ...      ...       ...    ...     ...      ...     ...     ...   \n",
            "2220   0.0      0.0       0.0    0.0     0.0      0.0     0.0     0.0   \n",
            "2221   0.0      0.0       0.0    0.0     0.0      0.0     0.0     0.0   \n",
            "2222   0.0      0.0       0.0    0.0     0.0      0.0     0.0     0.0   \n",
            "2223   0.0      0.0       0.0    0.0     0.0      0.0     0.0     0.0   \n",
            "2224   0.0      0.0       0.0    0.0     0.0      0.0     0.0     0.0   \n",
            "\n",
            "      zvonareva  zvyagintsev  \n",
            "0           0.0          0.0  \n",
            "1           0.0          0.0  \n",
            "2           0.0          0.0  \n",
            "3           0.0          0.0  \n",
            "4           0.0          0.0  \n",
            "...         ...          ...  \n",
            "2220        0.0          0.0  \n",
            "2221        0.0          0.0  \n",
            "2222        0.0          0.0  \n",
            "2223        0.0          0.0  \n",
            "2224        0.0          0.0  \n",
            "\n",
            "[2225 rows x 27177 columns]\n"
          ]
        }
      ]
    },
    {
      "cell_type": "markdown",
      "source": [
        "#Model Training and Evaluation"
      ],
      "metadata": {
        "id": "2lUl63JapLhT"
      }
    },
    {
      "cell_type": "markdown",
      "source": [
        "# Simple Approach- Naive Bayes\n",
        "\n",
        "The Naive Bayes classifier is a probabilistic model that uses Bayes' theorem to predict the class of a given instance. It assumes that all features are independent, which is the \"naive\" aspect of the model. Based on this assumption, the classifier calculates the probability of each class given the feature values.\n",
        "\n",
        " During prediction, the class with the highest probability is selected as the predicted label. Naive Bayes is especially efficient with text classification tasks, due to its simplicity and fast computation, even with large datasets."
      ],
      "metadata": {
        "id": "xsehWEI8pcwx"
      }
    },
    {
      "cell_type": "code",
      "source": [
        "# train a Naive-Bayes classifier\n",
        "\n",
        "from sklearn.model_selection import train_test_split\n",
        "from sklearn.naive_bayes import MultinomialNB\n",
        "from sklearn.metrics import accuracy_score, classification_report\n",
        "from sklearn.preprocessing import LabelEncoder\n",
        "\n",
        "vectorizer = TfidfVectorizer()\n",
        "X = vectorizer.fit_transform(df['cleaned_article'])\n",
        "y = df['category_encoded']\n",
        "\n",
        "\n",
        "# Split data into training and testing\n",
        "X_train, X_test, y_train, y_test = train_test_split(X, y, test_size=0.2, random_state=42)\n",
        "\n",
        "# Initialize and train Naive Bayes classifier\n",
        "nb_classifier = MultinomialNB()\n",
        "nb_classifier.fit(X_train, y_train)\n"
      ],
      "metadata": {
        "colab": {
          "base_uri": "https://localhost:8080/",
          "height": 80
        },
        "id": "V7e2ThEXofrd",
        "outputId": "23ae37b9-2898-4ef4-8267-33a90f580456"
      },
      "execution_count": null,
      "outputs": [
        {
          "output_type": "execute_result",
          "data": {
            "text/plain": [
              "MultinomialNB()"
            ],
            "text/html": [
              "<style>#sk-container-id-1 {\n",
              "  /* Definition of color scheme common for light and dark mode */\n",
              "  --sklearn-color-text: black;\n",
              "  --sklearn-color-line: gray;\n",
              "  /* Definition of color scheme for unfitted estimators */\n",
              "  --sklearn-color-unfitted-level-0: #fff5e6;\n",
              "  --sklearn-color-unfitted-level-1: #f6e4d2;\n",
              "  --sklearn-color-unfitted-level-2: #ffe0b3;\n",
              "  --sklearn-color-unfitted-level-3: chocolate;\n",
              "  /* Definition of color scheme for fitted estimators */\n",
              "  --sklearn-color-fitted-level-0: #f0f8ff;\n",
              "  --sklearn-color-fitted-level-1: #d4ebff;\n",
              "  --sklearn-color-fitted-level-2: #b3dbfd;\n",
              "  --sklearn-color-fitted-level-3: cornflowerblue;\n",
              "\n",
              "  /* Specific color for light theme */\n",
              "  --sklearn-color-text-on-default-background: var(--sg-text-color, var(--theme-code-foreground, var(--jp-content-font-color1, black)));\n",
              "  --sklearn-color-background: var(--sg-background-color, var(--theme-background, var(--jp-layout-color0, white)));\n",
              "  --sklearn-color-border-box: var(--sg-text-color, var(--theme-code-foreground, var(--jp-content-font-color1, black)));\n",
              "  --sklearn-color-icon: #696969;\n",
              "\n",
              "  @media (prefers-color-scheme: dark) {\n",
              "    /* Redefinition of color scheme for dark theme */\n",
              "    --sklearn-color-text-on-default-background: var(--sg-text-color, var(--theme-code-foreground, var(--jp-content-font-color1, white)));\n",
              "    --sklearn-color-background: var(--sg-background-color, var(--theme-background, var(--jp-layout-color0, #111)));\n",
              "    --sklearn-color-border-box: var(--sg-text-color, var(--theme-code-foreground, var(--jp-content-font-color1, white)));\n",
              "    --sklearn-color-icon: #878787;\n",
              "  }\n",
              "}\n",
              "\n",
              "#sk-container-id-1 {\n",
              "  color: var(--sklearn-color-text);\n",
              "}\n",
              "\n",
              "#sk-container-id-1 pre {\n",
              "  padding: 0;\n",
              "}\n",
              "\n",
              "#sk-container-id-1 input.sk-hidden--visually {\n",
              "  border: 0;\n",
              "  clip: rect(1px 1px 1px 1px);\n",
              "  clip: rect(1px, 1px, 1px, 1px);\n",
              "  height: 1px;\n",
              "  margin: -1px;\n",
              "  overflow: hidden;\n",
              "  padding: 0;\n",
              "  position: absolute;\n",
              "  width: 1px;\n",
              "}\n",
              "\n",
              "#sk-container-id-1 div.sk-dashed-wrapped {\n",
              "  border: 1px dashed var(--sklearn-color-line);\n",
              "  margin: 0 0.4em 0.5em 0.4em;\n",
              "  box-sizing: border-box;\n",
              "  padding-bottom: 0.4em;\n",
              "  background-color: var(--sklearn-color-background);\n",
              "}\n",
              "\n",
              "#sk-container-id-1 div.sk-container {\n",
              "  /* jupyter's `normalize.less` sets `[hidden] { display: none; }`\n",
              "     but bootstrap.min.css set `[hidden] { display: none !important; }`\n",
              "     so we also need the `!important` here to be able to override the\n",
              "     default hidden behavior on the sphinx rendered scikit-learn.org.\n",
              "     See: https://github.com/scikit-learn/scikit-learn/issues/21755 */\n",
              "  display: inline-block !important;\n",
              "  position: relative;\n",
              "}\n",
              "\n",
              "#sk-container-id-1 div.sk-text-repr-fallback {\n",
              "  display: none;\n",
              "}\n",
              "\n",
              "div.sk-parallel-item,\n",
              "div.sk-serial,\n",
              "div.sk-item {\n",
              "  /* draw centered vertical line to link estimators */\n",
              "  background-image: linear-gradient(var(--sklearn-color-text-on-default-background), var(--sklearn-color-text-on-default-background));\n",
              "  background-size: 2px 100%;\n",
              "  background-repeat: no-repeat;\n",
              "  background-position: center center;\n",
              "}\n",
              "\n",
              "/* Parallel-specific style estimator block */\n",
              "\n",
              "#sk-container-id-1 div.sk-parallel-item::after {\n",
              "  content: \"\";\n",
              "  width: 100%;\n",
              "  border-bottom: 2px solid var(--sklearn-color-text-on-default-background);\n",
              "  flex-grow: 1;\n",
              "}\n",
              "\n",
              "#sk-container-id-1 div.sk-parallel {\n",
              "  display: flex;\n",
              "  align-items: stretch;\n",
              "  justify-content: center;\n",
              "  background-color: var(--sklearn-color-background);\n",
              "  position: relative;\n",
              "}\n",
              "\n",
              "#sk-container-id-1 div.sk-parallel-item {\n",
              "  display: flex;\n",
              "  flex-direction: column;\n",
              "}\n",
              "\n",
              "#sk-container-id-1 div.sk-parallel-item:first-child::after {\n",
              "  align-self: flex-end;\n",
              "  width: 50%;\n",
              "}\n",
              "\n",
              "#sk-container-id-1 div.sk-parallel-item:last-child::after {\n",
              "  align-self: flex-start;\n",
              "  width: 50%;\n",
              "}\n",
              "\n",
              "#sk-container-id-1 div.sk-parallel-item:only-child::after {\n",
              "  width: 0;\n",
              "}\n",
              "\n",
              "/* Serial-specific style estimator block */\n",
              "\n",
              "#sk-container-id-1 div.sk-serial {\n",
              "  display: flex;\n",
              "  flex-direction: column;\n",
              "  align-items: center;\n",
              "  background-color: var(--sklearn-color-background);\n",
              "  padding-right: 1em;\n",
              "  padding-left: 1em;\n",
              "}\n",
              "\n",
              "\n",
              "/* Toggleable style: style used for estimator/Pipeline/ColumnTransformer box that is\n",
              "clickable and can be expanded/collapsed.\n",
              "- Pipeline and ColumnTransformer use this feature and define the default style\n",
              "- Estimators will overwrite some part of the style using the `sk-estimator` class\n",
              "*/\n",
              "\n",
              "/* Pipeline and ColumnTransformer style (default) */\n",
              "\n",
              "#sk-container-id-1 div.sk-toggleable {\n",
              "  /* Default theme specific background. It is overwritten whether we have a\n",
              "  specific estimator or a Pipeline/ColumnTransformer */\n",
              "  background-color: var(--sklearn-color-background);\n",
              "}\n",
              "\n",
              "/* Toggleable label */\n",
              "#sk-container-id-1 label.sk-toggleable__label {\n",
              "  cursor: pointer;\n",
              "  display: block;\n",
              "  width: 100%;\n",
              "  margin-bottom: 0;\n",
              "  padding: 0.5em;\n",
              "  box-sizing: border-box;\n",
              "  text-align: center;\n",
              "}\n",
              "\n",
              "#sk-container-id-1 label.sk-toggleable__label-arrow:before {\n",
              "  /* Arrow on the left of the label */\n",
              "  content: \"▸\";\n",
              "  float: left;\n",
              "  margin-right: 0.25em;\n",
              "  color: var(--sklearn-color-icon);\n",
              "}\n",
              "\n",
              "#sk-container-id-1 label.sk-toggleable__label-arrow:hover:before {\n",
              "  color: var(--sklearn-color-text);\n",
              "}\n",
              "\n",
              "/* Toggleable content - dropdown */\n",
              "\n",
              "#sk-container-id-1 div.sk-toggleable__content {\n",
              "  max-height: 0;\n",
              "  max-width: 0;\n",
              "  overflow: hidden;\n",
              "  text-align: left;\n",
              "  /* unfitted */\n",
              "  background-color: var(--sklearn-color-unfitted-level-0);\n",
              "}\n",
              "\n",
              "#sk-container-id-1 div.sk-toggleable__content.fitted {\n",
              "  /* fitted */\n",
              "  background-color: var(--sklearn-color-fitted-level-0);\n",
              "}\n",
              "\n",
              "#sk-container-id-1 div.sk-toggleable__content pre {\n",
              "  margin: 0.2em;\n",
              "  border-radius: 0.25em;\n",
              "  color: var(--sklearn-color-text);\n",
              "  /* unfitted */\n",
              "  background-color: var(--sklearn-color-unfitted-level-0);\n",
              "}\n",
              "\n",
              "#sk-container-id-1 div.sk-toggleable__content.fitted pre {\n",
              "  /* unfitted */\n",
              "  background-color: var(--sklearn-color-fitted-level-0);\n",
              "}\n",
              "\n",
              "#sk-container-id-1 input.sk-toggleable__control:checked~div.sk-toggleable__content {\n",
              "  /* Expand drop-down */\n",
              "  max-height: 200px;\n",
              "  max-width: 100%;\n",
              "  overflow: auto;\n",
              "}\n",
              "\n",
              "#sk-container-id-1 input.sk-toggleable__control:checked~label.sk-toggleable__label-arrow:before {\n",
              "  content: \"▾\";\n",
              "}\n",
              "\n",
              "/* Pipeline/ColumnTransformer-specific style */\n",
              "\n",
              "#sk-container-id-1 div.sk-label input.sk-toggleable__control:checked~label.sk-toggleable__label {\n",
              "  color: var(--sklearn-color-text);\n",
              "  background-color: var(--sklearn-color-unfitted-level-2);\n",
              "}\n",
              "\n",
              "#sk-container-id-1 div.sk-label.fitted input.sk-toggleable__control:checked~label.sk-toggleable__label {\n",
              "  background-color: var(--sklearn-color-fitted-level-2);\n",
              "}\n",
              "\n",
              "/* Estimator-specific style */\n",
              "\n",
              "/* Colorize estimator box */\n",
              "#sk-container-id-1 div.sk-estimator input.sk-toggleable__control:checked~label.sk-toggleable__label {\n",
              "  /* unfitted */\n",
              "  background-color: var(--sklearn-color-unfitted-level-2);\n",
              "}\n",
              "\n",
              "#sk-container-id-1 div.sk-estimator.fitted input.sk-toggleable__control:checked~label.sk-toggleable__label {\n",
              "  /* fitted */\n",
              "  background-color: var(--sklearn-color-fitted-level-2);\n",
              "}\n",
              "\n",
              "#sk-container-id-1 div.sk-label label.sk-toggleable__label,\n",
              "#sk-container-id-1 div.sk-label label {\n",
              "  /* The background is the default theme color */\n",
              "  color: var(--sklearn-color-text-on-default-background);\n",
              "}\n",
              "\n",
              "/* On hover, darken the color of the background */\n",
              "#sk-container-id-1 div.sk-label:hover label.sk-toggleable__label {\n",
              "  color: var(--sklearn-color-text);\n",
              "  background-color: var(--sklearn-color-unfitted-level-2);\n",
              "}\n",
              "\n",
              "/* Label box, darken color on hover, fitted */\n",
              "#sk-container-id-1 div.sk-label.fitted:hover label.sk-toggleable__label.fitted {\n",
              "  color: var(--sklearn-color-text);\n",
              "  background-color: var(--sklearn-color-fitted-level-2);\n",
              "}\n",
              "\n",
              "/* Estimator label */\n",
              "\n",
              "#sk-container-id-1 div.sk-label label {\n",
              "  font-family: monospace;\n",
              "  font-weight: bold;\n",
              "  display: inline-block;\n",
              "  line-height: 1.2em;\n",
              "}\n",
              "\n",
              "#sk-container-id-1 div.sk-label-container {\n",
              "  text-align: center;\n",
              "}\n",
              "\n",
              "/* Estimator-specific */\n",
              "#sk-container-id-1 div.sk-estimator {\n",
              "  font-family: monospace;\n",
              "  border: 1px dotted var(--sklearn-color-border-box);\n",
              "  border-radius: 0.25em;\n",
              "  box-sizing: border-box;\n",
              "  margin-bottom: 0.5em;\n",
              "  /* unfitted */\n",
              "  background-color: var(--sklearn-color-unfitted-level-0);\n",
              "}\n",
              "\n",
              "#sk-container-id-1 div.sk-estimator.fitted {\n",
              "  /* fitted */\n",
              "  background-color: var(--sklearn-color-fitted-level-0);\n",
              "}\n",
              "\n",
              "/* on hover */\n",
              "#sk-container-id-1 div.sk-estimator:hover {\n",
              "  /* unfitted */\n",
              "  background-color: var(--sklearn-color-unfitted-level-2);\n",
              "}\n",
              "\n",
              "#sk-container-id-1 div.sk-estimator.fitted:hover {\n",
              "  /* fitted */\n",
              "  background-color: var(--sklearn-color-fitted-level-2);\n",
              "}\n",
              "\n",
              "/* Specification for estimator info (e.g. \"i\" and \"?\") */\n",
              "\n",
              "/* Common style for \"i\" and \"?\" */\n",
              "\n",
              ".sk-estimator-doc-link,\n",
              "a:link.sk-estimator-doc-link,\n",
              "a:visited.sk-estimator-doc-link {\n",
              "  float: right;\n",
              "  font-size: smaller;\n",
              "  line-height: 1em;\n",
              "  font-family: monospace;\n",
              "  background-color: var(--sklearn-color-background);\n",
              "  border-radius: 1em;\n",
              "  height: 1em;\n",
              "  width: 1em;\n",
              "  text-decoration: none !important;\n",
              "  margin-left: 1ex;\n",
              "  /* unfitted */\n",
              "  border: var(--sklearn-color-unfitted-level-1) 1pt solid;\n",
              "  color: var(--sklearn-color-unfitted-level-1);\n",
              "}\n",
              "\n",
              ".sk-estimator-doc-link.fitted,\n",
              "a:link.sk-estimator-doc-link.fitted,\n",
              "a:visited.sk-estimator-doc-link.fitted {\n",
              "  /* fitted */\n",
              "  border: var(--sklearn-color-fitted-level-1) 1pt solid;\n",
              "  color: var(--sklearn-color-fitted-level-1);\n",
              "}\n",
              "\n",
              "/* On hover */\n",
              "div.sk-estimator:hover .sk-estimator-doc-link:hover,\n",
              ".sk-estimator-doc-link:hover,\n",
              "div.sk-label-container:hover .sk-estimator-doc-link:hover,\n",
              ".sk-estimator-doc-link:hover {\n",
              "  /* unfitted */\n",
              "  background-color: var(--sklearn-color-unfitted-level-3);\n",
              "  color: var(--sklearn-color-background);\n",
              "  text-decoration: none;\n",
              "}\n",
              "\n",
              "div.sk-estimator.fitted:hover .sk-estimator-doc-link.fitted:hover,\n",
              ".sk-estimator-doc-link.fitted:hover,\n",
              "div.sk-label-container:hover .sk-estimator-doc-link.fitted:hover,\n",
              ".sk-estimator-doc-link.fitted:hover {\n",
              "  /* fitted */\n",
              "  background-color: var(--sklearn-color-fitted-level-3);\n",
              "  color: var(--sklearn-color-background);\n",
              "  text-decoration: none;\n",
              "}\n",
              "\n",
              "/* Span, style for the box shown on hovering the info icon */\n",
              ".sk-estimator-doc-link span {\n",
              "  display: none;\n",
              "  z-index: 9999;\n",
              "  position: relative;\n",
              "  font-weight: normal;\n",
              "  right: .2ex;\n",
              "  padding: .5ex;\n",
              "  margin: .5ex;\n",
              "  width: min-content;\n",
              "  min-width: 20ex;\n",
              "  max-width: 50ex;\n",
              "  color: var(--sklearn-color-text);\n",
              "  box-shadow: 2pt 2pt 4pt #999;\n",
              "  /* unfitted */\n",
              "  background: var(--sklearn-color-unfitted-level-0);\n",
              "  border: .5pt solid var(--sklearn-color-unfitted-level-3);\n",
              "}\n",
              "\n",
              ".sk-estimator-doc-link.fitted span {\n",
              "  /* fitted */\n",
              "  background: var(--sklearn-color-fitted-level-0);\n",
              "  border: var(--sklearn-color-fitted-level-3);\n",
              "}\n",
              "\n",
              ".sk-estimator-doc-link:hover span {\n",
              "  display: block;\n",
              "}\n",
              "\n",
              "/* \"?\"-specific style due to the `<a>` HTML tag */\n",
              "\n",
              "#sk-container-id-1 a.estimator_doc_link {\n",
              "  float: right;\n",
              "  font-size: 1rem;\n",
              "  line-height: 1em;\n",
              "  font-family: monospace;\n",
              "  background-color: var(--sklearn-color-background);\n",
              "  border-radius: 1rem;\n",
              "  height: 1rem;\n",
              "  width: 1rem;\n",
              "  text-decoration: none;\n",
              "  /* unfitted */\n",
              "  color: var(--sklearn-color-unfitted-level-1);\n",
              "  border: var(--sklearn-color-unfitted-level-1) 1pt solid;\n",
              "}\n",
              "\n",
              "#sk-container-id-1 a.estimator_doc_link.fitted {\n",
              "  /* fitted */\n",
              "  border: var(--sklearn-color-fitted-level-1) 1pt solid;\n",
              "  color: var(--sklearn-color-fitted-level-1);\n",
              "}\n",
              "\n",
              "/* On hover */\n",
              "#sk-container-id-1 a.estimator_doc_link:hover {\n",
              "  /* unfitted */\n",
              "  background-color: var(--sklearn-color-unfitted-level-3);\n",
              "  color: var(--sklearn-color-background);\n",
              "  text-decoration: none;\n",
              "}\n",
              "\n",
              "#sk-container-id-1 a.estimator_doc_link.fitted:hover {\n",
              "  /* fitted */\n",
              "  background-color: var(--sklearn-color-fitted-level-3);\n",
              "}\n",
              "</style><div id=\"sk-container-id-1\" class=\"sk-top-container\"><div class=\"sk-text-repr-fallback\"><pre>MultinomialNB()</pre><b>In a Jupyter environment, please rerun this cell to show the HTML representation or trust the notebook. <br />On GitHub, the HTML representation is unable to render, please try loading this page with nbviewer.org.</b></div><div class=\"sk-container\" hidden><div class=\"sk-item\"><div class=\"sk-estimator fitted sk-toggleable\"><input class=\"sk-toggleable__control sk-hidden--visually\" id=\"sk-estimator-id-1\" type=\"checkbox\" checked><label for=\"sk-estimator-id-1\" class=\"sk-toggleable__label fitted sk-toggleable__label-arrow fitted\">&nbsp;&nbsp;MultinomialNB<a class=\"sk-estimator-doc-link fitted\" rel=\"noreferrer\" target=\"_blank\" href=\"https://scikit-learn.org/1.5/modules/generated/sklearn.naive_bayes.MultinomialNB.html\">?<span>Documentation for MultinomialNB</span></a><span class=\"sk-estimator-doc-link fitted\">i<span>Fitted</span></span></label><div class=\"sk-toggleable__content fitted\"><pre>MultinomialNB()</pre></div> </div></div></div></div>"
            ]
          },
          "metadata": {},
          "execution_count": 6
        }
      ]
    },
    {
      "cell_type": "code",
      "source": [
        "X_train.shape"
      ],
      "metadata": {
        "colab": {
          "base_uri": "https://localhost:8080/"
        },
        "id": "p6zWQPRR2jF3",
        "outputId": "6a2418b2-5299-4eb3-8977-6374c10976e8"
      },
      "execution_count": null,
      "outputs": [
        {
          "output_type": "execute_result",
          "data": {
            "text/plain": [
              "(1780, 27177)"
            ]
          },
          "metadata": {},
          "execution_count": 8
        }
      ]
    },
    {
      "cell_type": "code",
      "source": [
        "X_test.shape"
      ],
      "metadata": {
        "colab": {
          "base_uri": "https://localhost:8080/"
        },
        "id": "rhGcjzVM2ugv",
        "outputId": "5bd84786-79a2-43c8-edc8-fad8f668316c"
      },
      "execution_count": null,
      "outputs": [
        {
          "output_type": "execute_result",
          "data": {
            "text/plain": [
              "(445, 27177)"
            ]
          },
          "metadata": {},
          "execution_count": 9
        }
      ]
    },
    {
      "cell_type": "markdown",
      "source": [
        "**The shape of the train and test is (1780, 27177) and (445, 27177) respectively.**"
      ],
      "metadata": {
        "id": "7rREeYEY2_sX"
      }
    },
    {
      "cell_type": "code",
      "source": [
        "# Predict on the test set\n",
        "y_pred = nb_classifier.predict(X_test)\n"
      ],
      "metadata": {
        "id": "9P0ovuydzFlZ"
      },
      "execution_count": null,
      "outputs": []
    },
    {
      "cell_type": "code",
      "source": [
        "# Evaluate the classifier\n",
        "accuracy = accuracy_score(y_test, y_pred)\n",
        "report = classification_report(y_test, y_pred, target_names=label_encoder.classes_)\n",
        "\n",
        "# Output results\n",
        "print(\"Accuracy:\", accuracy)\n",
        "print(\"\\nClassification Report:\\n\", report)\n",
        "\n",
        "# Confusion Matrix\n",
        "conf_matrix = confusion_matrix(y_test, y_pred)\n",
        "plt.figure(figsize=(8,6))\n",
        "sns.heatmap(conf_matrix, annot=True, fmt=\"d\", cmap=\"Blues\", xticklabels=set(y), yticklabels=set(y))\n",
        "plt.xlabel(\"Predicted Labels\")\n",
        "plt.ylabel(\"True Labels\")\n",
        "plt.title(\"Confusion Matrix\")\n",
        "plt.show()\n"
      ],
      "metadata": {
        "colab": {
          "base_uri": "https://localhost:8080/",
          "height": 836
        },
        "id": "4nZwC18ExSv8",
        "outputId": "489aea8b-73a3-401f-b067-45f208b3ab83"
      },
      "execution_count": null,
      "outputs": [
        {
          "output_type": "stream",
          "name": "stdout",
          "text": [
            "Accuracy: 0.9640449438202248\n",
            "\n",
            "Classification Report:\n",
            "                precision    recall  f1-score   support\n",
            "\n",
            "     Business       0.96      0.95      0.96       101\n",
            "Entertainment       1.00      0.89      0.94        81\n",
            "     Politics       0.92      0.99      0.95        83\n",
            "       Sports       0.99      1.00      0.99        98\n",
            "   Technology       0.95      0.99      0.97        82\n",
            "\n",
            "     accuracy                           0.96       445\n",
            "    macro avg       0.96      0.96      0.96       445\n",
            " weighted avg       0.97      0.96      0.96       445\n",
            "\n"
          ]
        },
        {
          "output_type": "display_data",
          "data": {
            "text/plain": [
              "<Figure size 800x600 with 2 Axes>"
            ],
            "image/png": "[encoded data removed]"
          },
          "metadata": {}
        }
      ]
    },
    {
      "cell_type": "markdown",
      "source": [
        "Precision measures the accuracy of positive predictions for each category.\n",
        "Precision of all the categories are over 90%. Entertainment has a perfect precision of 1.00, meaning all predicted Entertainment articles were correctly classified.\n",
        "\n",
        "Recall(sensitivity) shows the model's ability to find all relevant instances in each category. All the categories have good recall, Sports has a recall of 1.00, indicating all Sports articles were correctly identified.\n",
        "\n",
        "F1-Score is the harmonic mean of precision and recall, providing a single measure of a category’s performance. A high F1-score indicates balanced precision and recall. All categories have a good amount of recall.\n",
        "\n",
        "Support is the number of actual instances of each category in the test set.\n",
        "\n",
        "**The overall accuracy of the model is 0.96, meaning 96% of all articles were correctly classified.**\n",
        "\n"
      ],
      "metadata": {
        "id": "XAmiP3KY5yWZ"
      }
    },
    {
      "cell_type": "markdown",
      "source": [
        "# FUNCTIONALIZED CODE\n",
        "\n"
      ],
      "metadata": {
        "id": "yivBhdRYCHrI"
      }
    },
    {
      "cell_type": "markdown",
      "source": [
        "# 1. Decision Trees\n",
        "\n",
        "A Decision Tree classifier is a supervised machine learning algorithm that classifies data by splitting it into subsets based on the feature values. Each path from the root to a leaf node represents a classification rule.\n",
        "\n",
        "The algorithm begins by examining all features and selecting the one that best divides the data into distinct categories, by using Gini impurity or entropy. This feature becomes the root node.\n",
        "\n",
        " The data is then recursively split at each level, creating decision nodes and branches based on the feature values. This process continues until a stopping condition is met, such as achieving pure nodes, reaching a maximum depth, or having too few samples in a node. When these conditions are met, nodes become leaf nodes, each representing the final classification.\n"
      ],
      "metadata": {
        "id": "_atHh-zWDXqu"
      }
    },
    {
      "cell_type": "code",
      "source": [
        "# train a Decision Tree classifier\n",
        "\n",
        "from sklearn.model_selection import train_test_split\n",
        "from sklearn.tree import DecisionTreeClassifier\n",
        "from sklearn.metrics import accuracy_score, classification_report\n",
        "from sklearn.preprocessing import LabelEncoder\n",
        "\n",
        "# Convert text to TF-IDF features\n",
        "vectorizer = TfidfVectorizer()\n",
        "X = vectorizer.fit_transform(df['cleaned_article'])\n",
        "y = df['category_encoded']\n",
        "\n",
        "# Split data into training and testing sets\n",
        "X_train, X_test, y_train, y_test = train_test_split(X, y, test_size=0.2, random_state=42)\n",
        "\n",
        "# Initialize and train Decision Tree classifier\n",
        "dt_classifier = DecisionTreeClassifier(random_state=42)\n",
        "dt_classifier.fit(X_train, y_train)\n",
        "\n",
        "# Predict on the test set\n",
        "y_pred = dt_classifier.predict(X_test)\n"
      ],
      "metadata": {
        "id": "sfgg1oW9zl7y"
      },
      "execution_count": null,
      "outputs": []
    },
    {
      "cell_type": "code",
      "source": [
        "# Evaluate the classifier\n",
        "accuracy = accuracy_score(y_test, y_pred)\n",
        "report = classification_report(y_test, y_pred, target_names=label_encoder.classes_)\n",
        "\n",
        "# Output results\n",
        "print(\"Accuracy:\", accuracy)\n",
        "print(\"\\nClassification Report:\\n\", report)\n",
        "\n",
        "# Confusion Matrix\n",
        "conf_matrix = confusion_matrix(y_test, y_pred)\n",
        "plt.figure(figsize=(8,6))\n",
        "sns.heatmap(conf_matrix, annot=True, fmt=\"d\", cmap=\"Blues\", xticklabels=set(y), yticklabels=set(y))\n",
        "plt.xlabel(\"Predicted Labels\")\n",
        "plt.ylabel(\"True Labels\")\n",
        "plt.title(\"Confusion Matrix\")\n",
        "plt.show()\n"
      ],
      "metadata": {
        "colab": {
          "base_uri": "https://localhost:8080/",
          "height": 836
        },
        "id": "FQvP8NLIEPw9",
        "outputId": "5b8c7100-0a58-43fd-e3df-22c5f061ea03"
      },
      "execution_count": null,
      "outputs": [
        {
          "output_type": "stream",
          "name": "stdout",
          "text": [
            "Accuracy: 0.8426966292134831\n",
            "\n",
            "Classification Report:\n",
            "                precision    recall  f1-score   support\n",
            "\n",
            "     Business       0.81      0.82      0.82       101\n",
            "Entertainment       0.88      0.79      0.83        81\n",
            "     Politics       0.81      0.83      0.82        83\n",
            "       Sports       0.92      0.93      0.92        98\n",
            "   Technology       0.79      0.83      0.81        82\n",
            "\n",
            "     accuracy                           0.84       445\n",
            "    macro avg       0.84      0.84      0.84       445\n",
            " weighted avg       0.84      0.84      0.84       445\n",
            "\n"
          ]
        },
        {
          "output_type": "display_data",
          "data": {
            "text/plain": [
              "<Figure size 800x600 with 2 Axes>"
            ],
            "image/png": "[encoded data removed]"
          },
          "metadata": {}
        }
      ]
    },
    {
      "cell_type": "markdown",
      "source": [
        "The model performs well overall, particularly in Sports. It could improve in recall for categories like Entertainment and Technology where relevant articles were occasionally missed.\n",
        "\n",
        "**The overall accuracy of the Decision Tree model is 84%, which is less than the Naive Bayes model.**"
      ],
      "metadata": {
        "id": "-oSyN6V4GI5U"
      }
    },
    {
      "cell_type": "markdown",
      "source": [
        "# 2. Nearest Neighbour Classifier\n",
        "\n",
        "A Nearest Neighbor(k-NN) Classifier is a simple yet effective classification algorithm that classifies a data point based on the similarity between it and other articles in the dataset.\n",
        "\n",
        "For text-based classification tasks like article classification, k-NN works by comparing each article’s vectorized features (like TF-IDF or word embeddings) and finding the \"k\" most similar articles to predict its category.\n",
        "\n",
        " The algorithm calculates the distance between the new article and all articles in the training set, often using metrics like Euclidean distance or cosine similarity. The \"k\" nearest articles are identified, and the new article is assigned to the category that most of these neighbors belong to, following a majority voting approach."
      ],
      "metadata": {
        "id": "C_I1H7YPS8WX"
      }
    },
    {
      "cell_type": "code",
      "source": [
        "# training a knn classifier\n",
        "\n",
        "from sklearn.feature_extraction.text import TfidfVectorizer\n",
        "from sklearn.neighbors import KNeighborsClassifier\n",
        "from sklearn.metrics import accuracy_score, classification_report\n",
        "from sklearn.model_selection import train_test_split\n",
        "\n",
        "X = df['cleaned_article']\n",
        "y = df['category_encoded']\n",
        "\n",
        "# Train-test split\n",
        "X_train, X_test, y_train, y_test = train_test_split(X, y, test_size=0.2, random_state=42)\n",
        "\n",
        "# Vectorize the articles using TF-IDF\n",
        "vectorizer = TfidfVectorizer()\n",
        "X_train_tfidf = vectorizer.fit_transform(X_train)\n",
        "X_test_tfidf = vectorizer.transform(X_test)\n",
        "\n",
        "# Initialize the k-NN classifier\n",
        "knn_classifier = KNeighborsClassifier(n_neighbors=5, metric='cosine')\n",
        "\n",
        "# Train the k-NN classifier\n",
        "knn_classifier.fit(X_train_tfidf, y_train)\n",
        "\n",
        "# Predict categories for the test set\n",
        "y_pred = knn_classifier.predict(X_test_tfidf)\n",
        "\n"
      ],
      "metadata": {
        "id": "V0lbiIfZS8zo"
      },
      "execution_count": null,
      "outputs": []
    },
    {
      "cell_type": "code",
      "source": [
        "# Evaluate the model\n",
        "accuracy = accuracy_score(y_test, y_pred)\n",
        "report = classification_report(y_test, y_pred)\n",
        "\n",
        "print(f\"Accuracy: {accuracy * 100:.2f}%\")\n",
        "print(\"Classification Report:\")\n",
        "print(report)\n"
      ],
      "metadata": {
        "colab": {
          "base_uri": "https://localhost:8080/"
        },
        "id": "qATiOXvSrXLP",
        "outputId": "95d7dae0-ed26-481c-baf7-4cc8b01a2c27"
      },
      "execution_count": null,
      "outputs": [
        {
          "output_type": "stream",
          "name": "stdout",
          "text": [
            "Accuracy: 93.48%\n",
            "Classification Report:\n",
            "              precision    recall  f1-score   support\n",
            "\n",
            "           0       0.94      0.87      0.90       101\n",
            "           1       0.95      0.94      0.94        81\n",
            "           2       0.86      0.90      0.88        83\n",
            "           3       0.98      1.00      0.99        98\n",
            "           4       0.94      0.96      0.95        82\n",
            "\n",
            "    accuracy                           0.93       445\n",
            "   macro avg       0.93      0.94      0.93       445\n",
            "weighted avg       0.94      0.93      0.93       445\n",
            "\n"
          ]
        }
      ]
    },
    {
      "cell_type": "code",
      "source": [
        "from sklearn.metrics import confusion_matrix\n",
        "import seaborn as sns\n",
        "\n",
        "# confusion matrix for the knn classifier\n",
        "conf_matrix = confusion_matrix(y_test, y_pred)\n",
        "\n",
        "# Plot the confusion matrix\n",
        "plt.figure(figsize=(8,6))\n",
        "sns.heatmap(conf_matrix, annot=True, fmt=\"d\", cmap=\"Blues\", xticklabels=set(y), yticklabels=set(y))\n",
        "plt.xlabel(\"Predicted Labels\")\n",
        "plt.ylabel(\"True Labels\")\n",
        "plt.title(\"Confusion Matrix\")\n",
        "plt.show()"
      ],
      "metadata": {
        "colab": {
          "base_uri": "https://localhost:8080/",
          "height": 564
        },
        "id": "EVPZ2uBU73nB",
        "outputId": "64014137-91f6-4060-d28b-a898fbbb83df"
      },
      "execution_count": null,
      "outputs": [
        {
          "output_type": "display_data",
          "data": {
            "text/plain": [
              "<Figure size 800x600 with 2 Axes>"
            ],
            "image/png": "[encoded data removed]"
          },
          "metadata": {}
        }
      ]
    },
    {
      "cell_type": "markdown",
      "source": [
        "The KNN model demonstrates strong performance, particularly for classes 1 and 3, which show high precision and recall. Class 2 appears slightly weaker, indicating some room for improvement.\n",
        "\n",
        "**The overall accuracy of 93.48% suggests the model is effective at classifying articles into their respective categories, with good balance and performance across the different metrics.**"
      ],
      "metadata": {
        "id": "RH3h-smPrVtW"
      }
    },
    {
      "cell_type": "markdown",
      "source": [
        "# 3. Random Forest Classifier\n",
        "\n",
        "A Random Forest Classifier is an ensemble learning method primarily used for classification. It creates multiple decision trees and combines their predictions for more accurate and stable results. This technique leverages ensemble learning by training each tree on a random subset of the training data, enhancing performance compared to individual models."
      ],
      "metadata": {
        "id": "LBgysAAMSPFf"
      }
    },
    {
      "cell_type": "code",
      "source": [
        "# random forest classifier\n",
        "\n",
        "from sklearn.model_selection import train_test_split\n",
        "from sklearn.ensemble import RandomForestClassifier\n",
        "from sklearn.feature_extraction.text import TfidfVectorizer\n",
        "from sklearn.metrics import accuracy_score, classification_report, confusion_matrix\n",
        "import seaborn as sns\n",
        "import matplotlib.pyplot as plt\n",
        "\n",
        "X = df['cleaned_article']\n",
        "y = df['category_encoded']\n",
        "\n",
        "# Split data into training and testing sets\n",
        "X_train, X_test, y_train, y_test = train_test_split(X, y, test_size=0.2, random_state=42)\n",
        "\n",
        "# Vectorize text data\n",
        "vectorizer = TfidfVectorizer()\n",
        "X_train_vectorized = vectorizer.fit_transform(X_train)\n",
        "X_test_vectorized = vectorizer.transform(X_test)\n",
        "\n",
        "# train the Random Forest model\n",
        "rf_classifier = RandomForestClassifier(n_estimators=100, random_state=42)\n",
        "rf_classifier.fit(X_train_vectorized, y_train)\n",
        "\n",
        "y_pred = rf_classifier.predict(X_test_vectorized)\n",
        "\n"
      ],
      "metadata": {
        "id": "EwaGavIBAHJu"
      },
      "execution_count": null,
      "outputs": []
    },
    {
      "cell_type": "code",
      "source": [
        "# Evaluate the model\n",
        "accuracy = accuracy_score(y_test, y_pred)\n",
        "print(f\"Accuracy: {accuracy * 100:.2f}%\")\n",
        "print(\"Classification Report:\")\n",
        "print(classification_report(y_test, y_pred))\n",
        "\n",
        "# Confusion Matrix\n",
        "conf_matrix = confusion_matrix(y_test, y_pred)\n",
        "plt.figure(figsize=(8,6))\n",
        "sns.heatmap(conf_matrix, annot=True, fmt=\"d\", cmap=\"Blues\", xticklabels=set(y), yticklabels=set(y))\n",
        "plt.xlabel(\"Predicted Labels\")\n",
        "plt.ylabel(\"True Labels\")\n",
        "plt.title(\"Confusion Matrix\")\n",
        "plt.show()\n"
      ],
      "metadata": {
        "colab": {
          "base_uri": "https://localhost:8080/",
          "height": 817
        },
        "id": "sncX2E9A9_eq",
        "outputId": "e6db8547-70cb-4e63-ec77-b59461c2776f"
      },
      "execution_count": null,
      "outputs": [
        {
          "output_type": "stream",
          "name": "stdout",
          "text": [
            "Accuracy: 95.06%\n",
            "Classification Report:\n",
            "              precision    recall  f1-score   support\n",
            "\n",
            "           0       0.88      0.95      0.91       101\n",
            "           1       1.00      0.90      0.95        81\n",
            "           2       0.93      0.95      0.94        83\n",
            "           3       0.99      0.99      0.99        98\n",
            "           4       0.97      0.95      0.96        82\n",
            "\n",
            "    accuracy                           0.95       445\n",
            "   macro avg       0.95      0.95      0.95       445\n",
            "weighted avg       0.95      0.95      0.95       445\n",
            "\n"
          ]
        },
        {
          "output_type": "display_data",
          "data": {
            "text/plain": [
              "<Figure size 800x600 with 2 Axes>"
            ],
            "image/png": "[encoded data removed]"
          },
          "metadata": {}
        }
      ]
    },
    {
      "cell_type": "markdown",
      "source": [
        "This classification report demonstrates that the Random Forest model performs well on a multi-class classification task, achieving an overall accuracy of 95.06%. The precision, recall, and F1-score values are consistently high across all classes, indicating accurate and balanced predictions."
      ],
      "metadata": {
        "id": "aK_j7FwQB_Lq"
      }
    },
    {
      "cell_type": "markdown",
      "source": [
        "**From among the Classic Naive Bayes, KNN, Decision Trees and Random Forest Classifier, the best performance is given by the Naive Bayes' classifier with 96% accuracy. Random Forest classifier also had a decent accuracy of 95%.**\n",
        "\n",
        "**Decision Tree classifier gave an accuracy of only 84%.**\n"
      ],
      "metadata": {
        "id": "kciv_ck4FKpR"
      }
    },
    {
      "cell_type": "markdown",
      "source": [
        "# Word2Vec Model\n",
        "\n",
        "In a Word2Vec model, first each article is converted to lowercase, tokenized, and lemmatized to produce a list of standardized word tokens.\n",
        "\n",
        "Then a Word2Vec model is trained on these tokenized articles, enabling the model to generate word embeddings, which are dense vector representations that capture the semantic meaning of words based on their context.\n",
        "\n",
        "After training the Word2Vec model, document vectors are created for each article by averaging the word vectors of the tokens contained within the article. This average vector serves as a summary representation of the article's content.\n",
        "\n",
        "Then a classifier is trained using these document vectors to predict categories for new articles.\n",
        "\n"
      ],
      "metadata": {
        "id": "qE0gTc34MFar"
      }
    },
    {
      "cell_type": "code",
      "source": [
        "# word2vec to classify articles\n",
        "\n",
        "import nltk\n",
        "from nltk.tokenize import word_tokenize\n",
        "from gensim.models import Word2Vec\n",
        "from sklearn.ensemble import RandomForestClassifier\n",
        "from sklearn.model_selection import train_test_split\n",
        "from nltk.corpus import stopwords\n",
        "from nltk.stem import WordNetLemmatizer\n",
        "import numpy as np\n",
        "\n",
        "articles = df['Article']\n",
        "categories = df['category_encoded']\n",
        "\n",
        "nltk.download('punkt')\n",
        "nltk.download('stopwords')\n",
        "nltk.download('wordnet')\n",
        "\n",
        "# Tokenize each article\n",
        "tokenized_articles = [word_tokenize(article.lower()) for article in articles]\n",
        "\n",
        "# lemmatize the article\n",
        "stop_words = set(stopwords.words('english'))\n",
        "lemmatizer = WordNetLemmatizer()\n",
        "\n",
        "tokenized_articles = [\n",
        "    [lemmatizer.lemmatize(word) for word in word_tokenize(article.lower()) if word.isalpha() and word not in stop_words]\n",
        "    for article in articles\n",
        "]\n",
        "\n",
        "# Train a Word2Vec model on the tokenized articles\n",
        "word2vec_model = Word2Vec(sentences=tokenized_articles, vector_size=100, window=5, min_count=1, workers=4)\n",
        "\n",
        "# Create document vectors by averaging word vectors\n",
        "def get_document_vector(tokens, model):\n",
        "\n",
        "    valid_tokens = [token for token in tokens if token in model.wv]\n",
        "\n",
        "    if valid_tokens:\n",
        "        return np.mean(model.wv[valid_tokens], axis=0)\n",
        "    else:\n",
        "\n",
        "        return np.zeros(model.vector_size)\n",
        "\n",
        "document_vectors = np.array([get_document_vector(tokens, word2vec_model) for tokens in tokenized_articles])\n",
        "\n",
        "# Split data into training and test sets\n",
        "X_train, X_test, y_train, y_test = train_test_split(document_vectors, categories, test_size=0.2, random_state=42)\n",
        "\n",
        "# Train  Random Forest classifier on the document vectors\n",
        "classifier = RandomForestClassifier(n_estimators=100, random_state=42)\n",
        "classifier.fit(X_train, y_train)\n",
        "\n",
        "# Predict categories for the test set\n",
        "y_pred = classifier.predict(X_test)\n"
      ],
      "metadata": {
        "colab": {
          "base_uri": "https://localhost:8080/"
        },
        "id": "jCGvO_cg_4BW",
        "outputId": "b5ec8345-768f-4c1c-b738-6d48b3ea0231"
      },
      "execution_count": null,
      "outputs": [
        {
          "output_type": "stream",
          "name": "stderr",
          "text": [
            "[nltk_data] Downloading package punkt to /root/nltk_data...\n",
            "[nltk_data]   Package punkt is already up-to-date!\n",
            "[nltk_data] Downloading package stopwords to /root/nltk_data...\n",
            "[nltk_data]   Package stopwords is already up-to-date!\n",
            "[nltk_data] Downloading package wordnet to /root/nltk_data...\n",
            "[nltk_data]   Package wordnet is already up-to-date!\n"
          ]
        }
      ]
    },
    {
      "cell_type": "code",
      "source": [
        "from sklearn.metrics import accuracy_score, classification_report, confusion_matrix\n",
        "import matplotlib.pyplot as plt\n",
        "import seaborn as sns\n",
        "\n",
        "# Evaluation metrics\n",
        "accuracy = accuracy_score(y_test, y_pred)\n",
        "report = classification_report(y_test, y_pred)\n",
        "conf_matrix = confusion_matrix(y_test, y_pred)\n",
        "\n",
        "print(f\"Accuracy: {accuracy * 100:.2f}%\")\n",
        "print(\"Classification Report:\")\n",
        "print(report)\n",
        "\n",
        "plt.figure(figsize=(8,6))\n",
        "sns.heatmap(conf_matrix, annot=True, fmt=\"d\", cmap=\"Blues\", xticklabels=set(categories), yticklabels=set(categories))\n",
        "plt.xlabel(\"Predicted Labels\")\n",
        "plt.ylabel(\"True Labels\")\n",
        "plt.title(\"Confusion Matrix\")\n",
        "plt.show()"
      ],
      "metadata": {
        "colab": {
          "base_uri": "https://localhost:8080/",
          "height": 817
        },
        "id": "mjA1dfIHhgMh",
        "outputId": "f05a48e9-b270-4bc7-840f-90f1c06e33f2"
      },
      "execution_count": null,
      "outputs": [
        {
          "output_type": "stream",
          "name": "stdout",
          "text": [
            "Accuracy: 86.29%\n",
            "Classification Report:\n",
            "              precision    recall  f1-score   support\n",
            "\n",
            "           0       0.90      0.89      0.90       101\n",
            "           1       0.76      0.72      0.74        81\n",
            "           2       0.86      0.92      0.89        83\n",
            "           3       0.92      0.87      0.89        98\n",
            "           4       0.84      0.91      0.88        82\n",
            "\n",
            "    accuracy                           0.86       445\n",
            "   macro avg       0.86      0.86      0.86       445\n",
            "weighted avg       0.86      0.86      0.86       445\n",
            "\n"
          ]
        },
        {
          "output_type": "display_data",
          "data": {
            "text/plain": [
              "<Figure size 800x600 with 2 Axes>"
            ],
            "image/png": "[encoded data removed]"
          },
          "metadata": {}
        }
      ]
    },
    {
      "cell_type": "markdown",
      "source": [
        "We are getting an accuracy of 86% with the basic Word2Vec and Random Forest model.\n",
        "\n",
        "So we will try some tuning to improve the model's accuracy."
      ],
      "metadata": {
        "id": "S8H_HofFxAuQ"
      }
    },
    {
      "cell_type": "markdown",
      "source": [
        "# Tuning the Word2Vec Model for better Accuracy\n",
        "\n",
        "To improve the model's accuracy by experimenting with the Word2Vec hyperparameters.\n",
        "\n",
        "Also instead of simple averaging, weight each word vector by its TF-IDF score in the article."
      ],
      "metadata": {
        "id": "7h6yTpzP4tC-"
      }
    },
    {
      "cell_type": "code",
      "source": [
        "# improving word2vec model\n",
        "\n",
        "import nltk\n",
        "from nltk.tokenize import word_tokenize\n",
        "from gensim.models import Word2Vec\n",
        "from sklearn.ensemble import RandomForestClassifier\n",
        "from sklearn.model_selection import train_test_split\n",
        "from nltk.corpus import stopwords\n",
        "from nltk.stem import WordNetLemmatizer\n",
        "import numpy as np\n",
        "\n",
        "articles = df['Article']\n",
        "categories = df['category_encoded']\n",
        "\n",
        "nltk.download('punkt')\n",
        "nltk.download('stopwords')\n",
        "nltk.download('wordnet')\n",
        "\n",
        "# Tokenize each article\n",
        "tokenized_articles = [word_tokenize(article.lower()) for article in articles]\n",
        "\n",
        "# lemmatize the article\n",
        "stop_words = set(stopwords.words('english'))\n",
        "lemmatizer = WordNetLemmatizer()\n",
        "\n",
        "tokenized_articles = [\n",
        "    [lemmatizer.lemmatize(word) for word in word_tokenize(article.lower()) if word.isalpha() and word not in stop_words]\n",
        "    for article in articles\n",
        "]\n",
        "\n",
        "# change the hyperparameters of the model\n",
        "word2vec_model = Word2Vec(sentences=tokenized_articles, vector_size=200, window=10, min_count=2, workers=4)\n",
        "\n",
        "# instead of averaging word vectors, we use TF-IDF Weighted Averaging\n",
        "\n",
        "from sklearn.feature_extraction.text import TfidfVectorizer\n",
        "\n",
        "tfidf = TfidfVectorizer()\n",
        "tfidf.fit(articles)\n",
        "tfidf_dict = dict(zip(tfidf.get_feature_names_out(), tfidf.idf_))\n",
        "\n",
        "def get_weighted_document_vector(tokens, model, tfidf_dict):\n",
        "    valid_tokens = [token for token in tokens if token in model.wv]\n",
        "    if valid_tokens:\n",
        "        weights = [tfidf_dict.get(token, 1.0) for token in valid_tokens]\n",
        "        weighted_vectors = np.array([model.wv[token] * weight for token, weight in zip(valid_tokens, weights)])\n",
        "        return np.mean(weighted_vectors, axis=0)\n",
        "    else:\n",
        "        return np.zeros(model.vector_size)\n",
        "\n"
      ],
      "metadata": {
        "colab": {
          "base_uri": "https://localhost:8080/"
        },
        "id": "pxukq4f-sohc",
        "outputId": "566eeb94-d7cc-4c5d-af5b-670e0f31204d"
      },
      "execution_count": null,
      "outputs": [
        {
          "output_type": "stream",
          "name": "stderr",
          "text": [
            "[nltk_data] Downloading package punkt to /root/nltk_data...\n",
            "[nltk_data]   Package punkt is already up-to-date!\n",
            "[nltk_data] Downloading package stopwords to /root/nltk_data...\n",
            "[nltk_data]   Package stopwords is already up-to-date!\n",
            "[nltk_data] Downloading package wordnet to /root/nltk_data...\n",
            "[nltk_data]   Package wordnet is already up-to-date!\n"
          ]
        }
      ]
    },
    {
      "cell_type": "code",
      "source": [
        "# Split data into training and test sets\n",
        "X_train, X_test, y_train, y_test = train_test_split(document_vectors, categories, test_size=0.2, random_state=42)\n",
        "\n",
        "# Train  Random Forest classifier on the document vectors\n",
        "classifier = RandomForestClassifier(n_estimators=100, random_state=42)\n",
        "classifier.fit(X_train, y_train)\n",
        "\n",
        "# Predict categories for the test set\n",
        "y_pred = classifier.predict(X_test)"
      ],
      "metadata": {
        "id": "5hIuhFMO9ZD8"
      },
      "execution_count": null,
      "outputs": []
    },
    {
      "cell_type": "code",
      "source": [
        "from sklearn.metrics import accuracy_score, classification_report, confusion_matrix\n",
        "import matplotlib.pyplot as plt\n",
        "import seaborn as sns\n",
        "\n",
        "# Evaluation metrics\n",
        "accuracy = accuracy_score(y_test, y_pred)\n",
        "report = classification_report(y_test, y_pred)\n",
        "conf_matrix = confusion_matrix(y_test, y_pred)\n",
        "\n",
        "print(f\"Accuracy: {accuracy * 100:.2f}%\")\n",
        "print(\"Classification Report:\")\n",
        "print(report)\n",
        "\n",
        "plt.figure(figsize=(8,6))\n",
        "sns.heatmap(conf_matrix, annot=True, fmt=\"d\", cmap=\"Blues\", xticklabels=set(categories), yticklabels=set(categories))\n",
        "plt.xlabel(\"Predicted Labels\")\n",
        "plt.ylabel(\"True Labels\")\n",
        "plt.title(\"Confusion Matrix\")\n",
        "plt.show()"
      ],
      "metadata": {
        "colab": {
          "base_uri": "https://localhost:8080/",
          "height": 817
        },
        "id": "MJx3GY1PB4QX",
        "outputId": "13d7ab13-bc6d-4a4a-f7ed-d9458d6af13c"
      },
      "execution_count": null,
      "outputs": [
        {
          "output_type": "stream",
          "name": "stdout",
          "text": [
            "Accuracy: 93.93%\n",
            "Classification Report:\n",
            "              precision    recall  f1-score   support\n",
            "\n",
            "           0       0.90      0.93      0.91       101\n",
            "           1       0.95      0.94      0.94        81\n",
            "           2       0.91      0.96      0.94        83\n",
            "           3       1.00      0.93      0.96        98\n",
            "           4       0.95      0.94      0.94        82\n",
            "\n",
            "    accuracy                           0.94       445\n",
            "   macro avg       0.94      0.94      0.94       445\n",
            "weighted avg       0.94      0.94      0.94       445\n",
            "\n"
          ]
        },
        {
          "output_type": "display_data",
          "data": {
            "text/plain": [
              "<Figure size 800x600 with 2 Axes>"
            ],
            "image/png": "[encoded data removed]"
          },
          "metadata": {}
        }
      ]
    },
    {
      "cell_type": "markdown",
      "source": [
        "After applying tuning to the Word2Vec model, there is a drastic improvement in performance of the model.\n",
        "\n",
        "Precision values range from 0.90 (class 0) to 1.00 (class 3), showing high accuracy across all classes.\n",
        "\n",
        "Recall values are also high, with class 2 achieving the highest at 0.96, indicating the model successfully retrieves most relevant instances for each class.\n",
        "\n",
        "F1-Score is strong across all classes, with values ranging from 0.91 to 0.96, signifying a balanced performance.\n",
        "\n",
        "**Also the overall accuracy of the model is around 94%, which is quite high as compared to the model before tuning.**"
      ],
      "metadata": {
        "id": "3X9DESoRxv_9"
      }
    },
    {
      "cell_type": "markdown",
      "source": [
        "# Questionnaire\n",
        "\n",
        "**1.How many news articles are present in the dataset that we have?**\n",
        "\n",
        "There are 2225 articles in the dataset.\n",
        "\n",
        "**2.Most of the news articles are from ______ category.**\n",
        "\n",
        "Most of the news articles are from Sports category with 511, closely followed by Business category with 510 articles.\n",
        "\n",
        "**3.Only ___ no. of articles belong to the ‘Technology’ category.**\n",
        "\n",
        "Only 401 no. of articles belong to the ‘Technology’ category.\n",
        "\n",
        "**4. What are Stop Words and why should they be removed from the text data?**\n",
        "\n",
        "Stop words are common words (like \"the,\" \"is,\" \"and\") that appear frequently in text but carry little meaning on their own. They are usually removed from text data to reduce noise and improve processing efficiency, allowing the model to focus on more informative words.\n",
        "\n",
        "**5. Explain the difference between Stemming and Lemmatization.**\n",
        "\n",
        "Lemmatization considers the context and transforms words to their dictionary form (e.g., \"running\" becomes \"run\"), producing more accurate and readable results than stemming.\n",
        "\n",
        "**6. Which of the techniques Bag of Words or TF-IDF is considered to be more efficient than the other?**\n",
        "\n",
        "TF-IDF is often considered more efficient than Bag of Words because it not only considers word presence but also adjusts for the importance of each word by reducing the influence of commonly occurring terms, resulting in a better representation of text relevance.\n",
        "\n",
        "**7. What’s the shape of train & test data sets after performing a 75:25 split.**\n",
        "\n",
        "The size of the train set after 80:20 split is 1780 and that of the test set is 445.\n",
        "\n",
        "**8. Which of the following is found to be the best performing model.\n",
        "a. Random Forest b. Nearest Neighbors c. Naive Bayes**\n",
        "\n",
        "Naive Bayes is the best model with 96% accuracy. Random forest has 95% and Knn has an accuracy of 93%.\n",
        "\n",
        "**9. According to this particular use case, both precision and recall are equally important. (T/F)**\n",
        "\n",
        "The statement is True, as for multi-class classification of news articles, precision and recall are equally important. Precision ensures that each category’s predictions are accurate, avoiding false positives, while recall ensures that the model identifies all instances of each category, avoiding false negatives. Balancing both metrics leads to a comprehensive and reliable model, especially when all categories are significant and misclassifying any article can impact the quality of the classification system.\n",
        "\n",
        "\n"
      ],
      "metadata": {
        "id": "Cqj6gqZAzI67"
      }
    },
    {
      "cell_type": "markdown",
      "source": [
        "# Insights\n",
        "\n",
        "**Sports category has maximum number of articles, closely followed by business.**\n",
        "\n",
        "**Entertainment has the least number of articles.**\n",
        "\n",
        "**The shape of the train and test is (1780, 27177) and (445, 27177) respectively.**\n",
        "\n",
        "\n",
        "**NAIVE BAYES' MODEL**\n",
        "\n",
        "Precision measures the accuracy of positive predictions for each category.\n",
        "Precision of all the categories are over 90%. Entertainment has a perfect precision of 1.00, meaning all predicted Entertainment articles were correctly classified.\n",
        "\n",
        "Recall(sensitivity) shows the model's ability to find all relevant instances in each category. All the categories have good recall, Sports has a recall of 1.00, indicating all Sports articles were correctly identified.\n",
        "\n",
        "F1-Score is the harmonic mean of precision and recall, providing a single measure of a category’s performance. A high F1-score indicates balanced precision and recall. All categories have a good amount of recall.\n",
        "\n",
        "Support is the number of actual instances of each category in the test set.\n",
        "\n",
        "**The overall accuracy of the model is 0.96, meaning 96% of all articles were correctly classified.**\n",
        "\n",
        "\n",
        "**DECISION TREE MODEL**\n",
        "\n",
        "The model performs well overall, particularly in Sports. It could improve in recall for categories like Entertainment and Technology where relevant articles were occasionally missed.\n",
        "\n",
        "**The overall accuracy of the Decision Tree model is 84%, which is less than the Naive Bayes model.**\n",
        "\n",
        "\n",
        "**NEAREST NEIGHBOUR MODEL**\n",
        "\n",
        "The KNN model demonstrates strong performance, particularly for classes 1 and 3, which show high precision and recall. Class 2 appears slightly weaker, indicating some room for improvement.\n",
        "\n",
        "**The overall accuracy of 93.48% suggests the model is effective at classifying articles into their respective categories, with good balance and performance across the different metrics.**\n",
        "\n",
        "**RANDOM FOREST MODEL**\n",
        "\n",
        "\n",
        "The Random Forest model performs well on a multi-class classification task, achieving an overall accuracy of 95.06%. The precision, recall, and F1-score values are consistently high across all classes, indicating accurate and balanced predictions.\n",
        "\n",
        "**From among the Classic Naive Bayes, KNN, Decision Trees and Random Forest Classifier, the best performance is given by the Naive Bayes' classifier with 96% accuracy. Random Forest classifier also had a decent accuracy of 95%.**\n",
        "\n",
        "**Decision Tree classifier gave an accuracy of only 84%.**\n",
        "\n",
        "\n",
        "**Word2Vec WITH RANDOM FOREST MODEL**\n",
        "\n",
        "Precision values range from 0.90 (class 0) to 1.00 (class 3), showing high accuracy across all classes.\n",
        "\n",
        "Recall values are also high, with class 2 achieving the highest at 0.96, indicating the model successfully retrieves most relevant instances for each class.\n",
        "\n",
        "F1-Score is strong across all classes, with values ranging from 0.91 to 0.96, signifying a balanced performance.\n",
        "\n",
        "**Also the overall accuracy of the model is around 94%, which is quite high as compared to the model before tuning, which was only 86%.**\n",
        "\n"
      ],
      "metadata": {
        "id": "bvDa9g0g6tHY"
      }
    },
    {
      "cell_type": "markdown",
      "source": [
        "# Recommendations"
      ],
      "metadata": {
        "id": "_QI_hJfbDMc9"
      }
    },
    {
      "cell_type": "markdown",
      "source": [
        "**1. Sports and Business Categories**\n",
        "\n",
        " Since these categories have the most articles, models should be trained to leverage this higher representation for better feature extraction and consistency in predictions. High-performing models like Naive Bayes and Random Forest are effective choices here, as they capitalize on the model's familiarity with well-represented categories.\n",
        "\n",
        "**2. Entertainment Category**\n",
        "\n",
        "With fewer articles, Entertainment may suffer from under-representation, which could impact recall. Consider using data augmentation or collecting more samples in this category to improve recall and balance in prediction accuracy across categories.\n",
        "\n",
        "**3. Model Selection**\n",
        "\n",
        "**Naive Bayes:** With the highest overall accuracy (96%), Naive Bayes appears well-suited for this dataset. Its strong performance, especially in Entertainment, shows it handles balanced and imbalanced categories effectively.\n",
        "\n",
        "**Random Forest:** Also a strong choice with 95% accuracy, Random Forest demonstrates robust performance across categories, making it a good secondary model if ensemble learning or model combination is feasible.\n",
        "\n",
        "**Decision Tree:** Given its lower accuracy (84%), Decision Trees may need more fine-tuning or deeper adjustments to improve recall in categories like Entertainment and Technology. Alternatively, this model might be less suitable for this classification task.\n",
        "\n",
        "**K-Nearest Neighbors (KNN):** While achieving good accuracy (93.48%), KNN could benefit from fine-tuning in underperforming categories. This might involve experimenting with different values of k or weighting methods.\n",
        "\n",
        "**Word2Vec with Random Forest:** The Word2Vec and Random Forest combination achieved a notable improvement, especially after tuning (94% accuracy). This model captures semantic nuances in text, making it well-suited for article classification. It’s recommended to further tune Word2Vec parameters (e.g., vector size, window size) and assess if larger embeddings improve accuracy.\n",
        "\n",
        "**Ensemble Learning:** For overall improvements, consider using an ensemble approach by combining Naive Bayes, Random Forest, and KNN. This can potentially leverage the strengths of each model and enhance classification performance across all categories."
      ],
      "metadata": {
        "id": "X6UvASozDWO8"
      }
    }
  ]
}